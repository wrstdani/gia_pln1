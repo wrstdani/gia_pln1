{
 "cells": [
  {
   "cell_type": "code",
   "execution_count": 15,
   "metadata": {},
   "outputs": [],
   "source": [
    "import nltk\n",
    "from nltk.corpus import wordnet\n",
    "from nltk.corpus import wordnet_ic"
   ]
  },
  {
   "cell_type": "markdown",
   "metadata": {},
   "source": [
    "- **Ejercicio 1:** Utilizando WordNet, obtén los diferentes sentidos de la palabra “fight”. Para cada\n",
    "uno de ellos imprime su definición, los diferentes lemas asociados al mismo sentido\n",
    "y, también, ejemplos de uso de cada sentido. "
   ]
  },
  {
   "cell_type": "code",
   "execution_count": 2,
   "metadata": {},
   "outputs": [
    {
     "name": "stdout",
     "output_type": "stream",
     "text": [
      "Def: a hostile meeting of opposing military forces in the course of a war\n",
      "['battle', 'conflict', 'fight', 'engagement']\n",
      "['Grant won a decisive victory in the battle of Chickamauga', 'he lost his romantic ideas about war when he got into a real engagement']\n",
      "\n",
      "Def: the act of fighting; any contest or struggle\n",
      "['fight', 'fighting', 'combat', 'scrap']\n",
      "['a fight broke out at the hockey game', 'there was fighting in the streets', 'the unhappy couple got into a terrible scrap']\n",
      "\n",
      "Def: an aggressive willingness to compete\n",
      "['competitiveness', 'fight']\n",
      "['the team was full of fight']\n",
      "\n",
      "Def: an intense verbal dispute\n",
      "['fight']\n",
      "['a violent fight over the bill is expected in the Senate']\n",
      "\n",
      "Def: a boxing or wrestling match\n",
      "['fight']\n",
      "['the fight was on television last night']\n",
      "\n",
      "Def: be engaged in a fight; carry on a fight\n",
      "['contend', 'fight', 'struggle']\n",
      "['the tribesmen fought each other', 'Siblings are always fighting', 'Militant groups are contending for control of the country']\n",
      "\n",
      "Def: fight against or resist strongly\n",
      "['fight', 'oppose', 'fight_back', 'fight_down', 'defend']\n",
      "['The senator said he would oppose the bill', \"Don't fight it!\"]\n",
      "\n",
      "Def: make a strenuous or labored effort\n",
      "['fight', 'struggle']\n",
      "['She struggled for years to survive without welfare', 'He fought for breath']\n",
      "\n",
      "Def: exert oneself continuously, vigorously, or obtrusively to gain an end or engage in a crusade for a certain cause or person; be an advocate for\n",
      "['crusade', 'fight', 'press', 'campaign', 'push', 'agitate']\n",
      "['The liberal party pushed for reforms', \"She is crusading for women's rights\", 'The Dean is pushing for his favorite candidate']\n",
      "\n"
     ]
    }
   ],
   "source": [
    "# Ej. 1, tema 2 listado V\n",
    "for s in wordnet.synsets(\"fight\"):\n",
    "    print(f\"Def: {s.definition()}\")\n",
    "    lemmas = []\n",
    "    for l in s.lemmas():\n",
    "        lemmas.append(l.name())\n",
    "    print(lemmas)\n",
    "    print(s.examples())\n",
    "    print()"
   ]
  },
  {
   "cell_type": "markdown",
   "metadata": {},
   "source": [
    "---\n",
    "- **Ejercicio 2:** Haz lo mismo que en el ejercicio anterior, pero obteniendo los synsets solo cuando la categoría de la palabra sea un verbo. ¿Qué ha cambiado?"
   ]
  },
  {
   "cell_type": "code",
   "execution_count": 3,
   "metadata": {},
   "outputs": [
    {
     "name": "stdout",
     "output_type": "stream",
     "text": [
      "Def: be engaged in a fight; carry on a fight\n",
      "['contend', 'fight', 'struggle']\n",
      "['the tribesmen fought each other', 'Siblings are always fighting', 'Militant groups are contending for control of the country']\n",
      "\n",
      "Def: fight against or resist strongly\n",
      "['fight', 'oppose', 'fight_back', 'fight_down', 'defend']\n",
      "['The senator said he would oppose the bill', \"Don't fight it!\"]\n",
      "\n",
      "Def: make a strenuous or labored effort\n",
      "['fight', 'struggle']\n",
      "['She struggled for years to survive without welfare', 'He fought for breath']\n",
      "\n",
      "Def: exert oneself continuously, vigorously, or obtrusively to gain an end or engage in a crusade for a certain cause or person; be an advocate for\n",
      "['crusade', 'fight', 'press', 'campaign', 'push', 'agitate']\n",
      "['The liberal party pushed for reforms', \"She is crusading for women's rights\", 'The Dean is pushing for his favorite candidate']\n",
      "\n"
     ]
    }
   ],
   "source": [
    "# Ej. 2, tema 2 listado V\n",
    "for s in wordnet.synsets(\"fight\"):\n",
    "    if s.pos() == wordnet.VERB:\n",
    "        print(f\"Def: {s.definition()}\")\n",
    "        lemmas = []\n",
    "        for l in s.lemmas():\n",
    "            lemmas.append(l.name())\n",
    "        print(lemmas)\n",
    "        print(s.examples())\n",
    "        print()"
   ]
  },
  {
   "cell_type": "markdown",
   "metadata": {},
   "source": [
    "---\n",
    "- **Ejercicio 3:** Obtener todos los sentidos de “bank” cuando es un nombre. ¿Cuántos sentidos\n",
    "tiene? Buscar relaciones entre ellos:\n",
    "    - Buscar los hiperónimos\n",
    "    - Buscar los hipónimos  \n",
    "Un hipónimo concreta el significado de su hiperónimo, de esta manera “mesa” es más específico que “mueble” y “escritorio” es un tipo particular de “mesa”."
   ]
  },
  {
   "cell_type": "code",
   "execution_count": 5,
   "metadata": {},
   "outputs": [
    {
     "name": "stdout",
     "output_type": "stream",
     "text": [
      "Hiperónimos: ['slope.n.01']\n",
      "Hipónimos: ['riverbank.n.01', 'waterside.n.01']\n",
      "\n",
      "Hiperónimos: ['financial_institution.n.01']\n",
      "Hipónimos: ['acquirer.n.02', 'merchant_bank.n.01', 'member_bank.n.01', 'commercial_bank.n.01', 'federal_reserve_bank.n.01', 'credit_union.n.01', 'thrift_institution.n.01', 'state_bank.n.01', 'home_loan_bank.n.01', 'agent_bank.n.02', 'lead_bank.n.01']\n",
      "\n",
      "Hiperónimos: ['ridge.n.01']\n",
      "Hipónimos: ['sandbank.n.01', 'bluff.n.01']\n",
      "\n",
      "Hiperónimos: ['array.n.01']\n",
      "Hipónimos: []\n",
      "\n",
      "Hiperónimos: ['reserve.n.02']\n",
      "Hipónimos: ['soil_bank.n.01', 'blood_bank.n.01', 'eye_bank.n.01', 'food_bank.n.01']\n",
      "\n",
      "Hiperónimos: ['funds.n.01']\n",
      "Hipónimos: []\n",
      "\n",
      "Hiperónimos: ['slope.n.01']\n",
      "Hipónimos: []\n",
      "\n",
      "Hiperónimos: ['container.n.01']\n",
      "Hipónimos: ['piggy_bank.n.01']\n",
      "\n",
      "Hiperónimos: ['depository.n.01']\n",
      "Hipónimos: []\n",
      "\n",
      "Hiperónimos: ['flight_maneuver.n.01']\n",
      "Hipónimos: ['vertical_bank.n.01']\n",
      "\n",
      "Número de sentidos de bank siendo un nombre: 10\n"
     ]
    }
   ],
   "source": [
    "# Ejercicio 3, tema 2 listado V\n",
    "num_sentidos = 0\n",
    "for s in wordnet.synsets(\"bank\"):\n",
    "    if s.pos() == wordnet.NOUN:\n",
    "        num_sentidos += 1\n",
    "        hypernyms = []\n",
    "        hyponyms = []\n",
    "        for h in s.hypernyms():\n",
    "            hypernyms.append(h.name())\n",
    "        print(f\"Hiperónimos: {hypernyms}\")\n",
    "        for h in s.hyponyms():\n",
    "            hyponyms.append(h.name())\n",
    "        print(f\"Hipónimos: {hyponyms}\")\n",
    "        print()\n",
    "print(f\"Número de sentidos de bank siendo un nombre: {num_sentidos}\")"
   ]
  },
  {
   "cell_type": "markdown",
   "metadata": {},
   "source": [
    "---\n",
    "- **Ejercicio 4:** Se puede calcular la similitud semántica entre dos synsets. WordNet tiene varias medidas de similitud semántica disponibles:\n",
    "    - Medidas basadas en path, donde se mide la longitud que hay en el camino que lleva de un concepto a otro y cuánto más corto sea el camino, más similares serán.\n",
    "    - Medidas basadas en el contenido, de forma que cuanta más información compartan dos conceptos, más similares serán.\n",
    "    - Medidas basadas en características comunes que pueden compartir los conceptos, y cuántas más características comunes tengan, más similares son.\n",
    "    - Medidas híbridas, que combinan todas las anteriores."
   ]
  },
  {
   "cell_type": "code",
   "execution_count": 7,
   "metadata": {},
   "outputs": [],
   "source": [
    "# Ejercicio 4, tema 2 listado V\n",
    "dog = wordnet.synset(\"dog.n.01\")\n",
    "cat = wordnet.synset(\"cat.n.01\")\n",
    "vehicle = wordnet.synset(\"vehicle.n.01\")\n",
    "car = wordnet.synset(\"car.n.01\")\n",
    "whale = wordnet.synset(\"whale.n.01\")\n",
    "eagle = wordnet.synset(\"eagle.n.01\")"
   ]
  },
  {
   "cell_type": "code",
   "execution_count": 16,
   "metadata": {},
   "outputs": [],
   "source": [
    "def get_similiarities(synset1, synset2, ic):\n",
    "    return (\n",
    "        synset1.path_similarity(synset2),\n",
    "        synset1.res_similarity(synset2, ic)\n",
    "    )"
   ]
  },
  {
   "cell_type": "code",
   "execution_count": 17,
   "metadata": {},
   "outputs": [],
   "source": [
    "# dog - cat\n",
    "brown_ic = wordnet_ic.ic('ic-brown.dat')\n",
    "sim = get_similiarities(dog, cat, brown_ic)"
   ]
  },
  {
   "cell_type": "code",
   "execution_count": 51,
   "metadata": {},
   "outputs": [
    {
     "name": "stdout",
     "output_type": "stream",
     "text": [
      "Similitud basada en path: 0.2\n"
     ]
    }
   ],
   "source": [
    "# vehicle - car\n",
    "print(f\"Similitud basada en path: {vehicle.path_similarity(car)}\")"
   ]
  },
  {
   "cell_type": "code",
   "execution_count": 52,
   "metadata": {},
   "outputs": [
    {
     "name": "stdout",
     "output_type": "stream",
     "text": [
      "Similitud basada en path: 0.07692307692307693\n"
     ]
    }
   ],
   "source": [
    "# dog - car\n",
    "print(f\"Similitud basada en path: {dog.path_similarity(car)}\")"
   ]
  },
  {
   "cell_type": "code",
   "execution_count": 53,
   "metadata": {},
   "outputs": [
    {
     "name": "stdout",
     "output_type": "stream",
     "text": [
      "Similitud basada en path: 0.1\n"
     ]
    }
   ],
   "source": [
    "# whale - eagle\n",
    "print(f\"Similitud basada en path: {whale.path_similarity(eagle)}\")"
   ]
  }
 ],
 "metadata": {
  "kernelspec": {
   "display_name": "pln1",
   "language": "python",
   "name": "python3"
  },
  "language_info": {
   "codemirror_mode": {
    "name": "ipython",
    "version": 3
   },
   "file_extension": ".py",
   "mimetype": "text/x-python",
   "name": "python",
   "nbconvert_exporter": "python",
   "pygments_lexer": "ipython3",
   "version": "3.12.8"
  }
 },
 "nbformat": 4,
 "nbformat_minor": 2
}
