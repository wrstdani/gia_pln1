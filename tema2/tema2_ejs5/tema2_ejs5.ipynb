{
 "cells": [
  {
   "cell_type": "code",
   "execution_count": null,
   "metadata": {},
   "outputs": [],
   "source": [
    "import nltk\n",
    "from nltk.corpus import wordnet\n",
    "from nltk.corpus import wordnet_ic\n",
    "from nltk.tokenize import word_tokenize\n",
    "\n",
    "# Importamos el algoritmo de lesk\n",
    "# para desambiguación\n",
    "from nltk.wsd import lesk\n",
    "\n",
    "# Importamos las variantes mejoradas\n",
    "# del algoritmo de Lesk\n",
    "from pywsd import simple_lesk\n",
    "from pywsd import adapted_lesk"
   ]
  },
  {
   "cell_type": "markdown",
   "metadata": {},
   "source": [
    "- **Ejercicio 1:** Utilizando WordNet, obtén los diferentes sentidos de la palabra “fight”. Para cada\n",
    "uno de ellos imprime su definición, los diferentes lemas asociados al mismo sentido\n",
    "y, también, ejemplos de uso de cada sentido. "
   ]
  },
  {
   "cell_type": "code",
   "execution_count": null,
   "metadata": {},
   "outputs": [],
   "source": [
    "# Ej. 1, tema 2 listado V\n",
    "for s in wordnet.synsets(\"fight\"):\n",
    "    print(f\"Def: {s.definition()}\")\n",
    "    lemmas = []\n",
    "    for l in s.lemmas():\n",
    "        lemmas.append(l.name())\n",
    "    print(lemmas)\n",
    "    print(s.examples())\n",
    "    print()"
   ]
  },
  {
   "cell_type": "markdown",
   "metadata": {},
   "source": [
    "---\n",
    "- **Ejercicio 2:** Haz lo mismo que en el ejercicio anterior, pero obteniendo los synsets solo cuando la categoría de la palabra sea un verbo. ¿Qué ha cambiado?"
   ]
  },
  {
   "cell_type": "code",
   "execution_count": null,
   "metadata": {},
   "outputs": [],
   "source": [
    "# Ej. 2, tema 2 listado V\n",
    "for s in wordnet.synsets(\"fight\"):\n",
    "    if s.pos() == wordnet.VERB:\n",
    "        print(f\"Def: {s.definition()}\")\n",
    "        lemmas = []\n",
    "        for l in s.lemmas():\n",
    "            lemmas.append(l.name())\n",
    "        print(lemmas)\n",
    "        print(s.examples())\n",
    "        print()"
   ]
  },
  {
   "cell_type": "markdown",
   "metadata": {},
   "source": [
    "---\n",
    "- **Ejercicio 3:** Obtener todos los sentidos de “bank” cuando es un nombre. ¿Cuántos sentidos\n",
    "tiene? Buscar relaciones entre ellos:\n",
    "    - Buscar los hiperónimos\n",
    "    - Buscar los hipónimos  \n",
    "Un hipónimo concreta el significado de su hiperónimo, de esta manera “mesa” es más específico que “mueble” y “escritorio” es un tipo particular de “mesa”."
   ]
  },
  {
   "cell_type": "code",
   "execution_count": null,
   "metadata": {},
   "outputs": [],
   "source": [
    "# Ejercicio 3, tema 2 listado V\n",
    "num_sentidos = 0\n",
    "for s in wordnet.synsets(\"bank\"):\n",
    "    if s.pos() == wordnet.NOUN:\n",
    "        num_sentidos += 1\n",
    "        hypernyms = []\n",
    "        hyponyms = []\n",
    "        for h in s.hypernyms():\n",
    "            hypernyms.append(h.name())\n",
    "        print(f\"Hiperónimos: {hypernyms}\")\n",
    "        for h in s.hyponyms():\n",
    "            hyponyms.append(h.name())\n",
    "        print(f\"Hipónimos: {hyponyms}\")\n",
    "        print()\n",
    "print(f\"Número de sentidos de bank siendo un nombre: {num_sentidos}\")"
   ]
  },
  {
   "cell_type": "markdown",
   "metadata": {},
   "source": [
    "---\n",
    "- **Ejercicio 4:** Se puede calcular la similitud semántica entre dos synsets. WordNet tiene varias medidas de similitud semántica disponibles:\n",
    "    - Medidas basadas en path, donde se mide la longitud que hay en el camino que lleva de un concepto a otro y cuánto más corto sea el camino, más similares serán (`path_similarity`).\n",
    "    - Medidas basadas en el contenido, de forma que cuanta más información compartan dos conceptos, más similares serán (`res_similarity`).\n",
    "    - Medidas basadas en características comunes que pueden compartir los conceptos, y cuántas más características comunes tengan, más similares son (en NLTK no hay).\n",
    "    - Medidas híbridas, que combinan todas las anteriores (`lch_similarity`)."
   ]
  },
  {
   "cell_type": "code",
   "execution_count": null,
   "metadata": {},
   "outputs": [],
   "source": [
    "# Ejercicio 4, tema 2 listado V\n",
    "dog = wordnet.synset(\"dog.n.01\")\n",
    "cat = wordnet.synset(\"cat.n.01\")\n",
    "vehicle = wordnet.synset(\"vehicle.n.01\")\n",
    "car = wordnet.synset(\"car.n.01\")\n",
    "whale = wordnet.synset(\"whale.n.01\")\n",
    "eagle = wordnet.synset(\"eagle.n.01\")"
   ]
  },
  {
   "cell_type": "code",
   "execution_count": null,
   "metadata": {},
   "outputs": [],
   "source": [
    "def get_similiarities(synset1, synset2, ic):\n",
    "    return {\n",
    "        f\"Path similarity ({synset1}-{synset2})\": synset1.path_similarity(synset2),\n",
    "        f\"Resnik similarity ({synset1}-{synset2})\": synset1.res_similarity(synset2, ic),\n",
    "        f\"Leacock-Chodorow similarity ({synset1}-{synset2})\": synset1.lch_similarity(synset2, ic)\n",
    "    }\n",
    "\n",
    "def print_similarities(sim):\n",
    "    for similarity, value in sim.items():\n",
    "        print(f\"{similarity} -> {value}\")\n",
    "\n",
    "brown_ic = wordnet_ic.ic('ic-brown.dat')"
   ]
  },
  {
   "cell_type": "code",
   "execution_count": null,
   "metadata": {},
   "outputs": [],
   "source": [
    "# dog - cat\n",
    "sim_dog_cat = get_similiarities(dog, cat, brown_ic)\n",
    "print_similarities(sim_dog_cat)"
   ]
  },
  {
   "cell_type": "code",
   "execution_count": null,
   "metadata": {},
   "outputs": [],
   "source": [
    "# vehicle - car\n",
    "sim_vehicle_car = get_similiarities(vehicle, car, brown_ic)\n",
    "print_similarities(sim_vehicle_car)"
   ]
  },
  {
   "cell_type": "code",
   "execution_count": null,
   "metadata": {},
   "outputs": [],
   "source": [
    "# dog - car\n",
    "sim_dog_car = get_similiarities(dog, car, brown_ic)\n",
    "print_similarities(sim_dog_car)"
   ]
  },
  {
   "cell_type": "code",
   "execution_count": null,
   "metadata": {},
   "outputs": [],
   "source": [
    "# whale - eagle\n",
    "sim_whale_eagle = get_similiarities(whale, eagle, brown_ic)\n",
    "print_similarities(sim_whale_eagle)"
   ]
  },
  {
   "cell_type": "markdown",
   "metadata": {},
   "source": [
    "---\n",
    "- **Ejercicio 5:** Dada la palabra \"watch\", buscar los synsets en WordNet y mostrar la definición y las frases de ejemplo. ¿Cómo identificar de qué categoría gramatical es cada synset obtenido?"
   ]
  },
  {
   "cell_type": "code",
   "execution_count": null,
   "metadata": {},
   "outputs": [],
   "source": [
    "for synset in wordnet.synsets(\"watch\"):\n",
    "    print(f\"Synset: {synset.name()}\")\n",
    "    print(f\"Definición: {wordnet.synset(synset.name()).definition()}\")\n",
    "    print(f\"Frases de ejemplo: {wordnet.synset(synset.name()).examples()}\")\n",
    "    print(f\"Categ. gramatical: {wordnet.synset(synset.name()).pos()}\")\n",
    "    print()"
   ]
  },
  {
   "cell_type": "markdown",
   "metadata": {},
   "source": [
    "- **Ejercicio 6:** Se quiere hacer desambiguación del sentido de una palabra. Una estrategia muy simple (y poco precisa) para desambiguar palabras consiste en seleccionar un synset de WordNet al azar sin tener en cuenta el contexto en el que se encuentra la palabra a analizar. Aunque esta estrategia no es de mucha utilidad en la práctica, permite comprender la importancia de utilizar métodos más sofisticados. Se pide desambiguar la palabra “watch” en la frase “You must watch this film”, seleccionando para ello el primer synset identificado por WordNet. Muestra la definición del synset. ¿Es la acepción correcta de la palabra?"
   ]
  },
  {
   "cell_type": "code",
   "execution_count": null,
   "metadata": {},
   "outputs": [],
   "source": [
    "print(wordnet.synset(wordnet.synsets(\"watch\")[0].name()).definition())"
   ]
  },
  {
   "cell_type": "markdown",
   "metadata": {},
   "source": [
    "Observamos que no corresponde al sentido de la palabra que se utiliza en la frase \"You must watch this film\", ya que el primer synset de \"watch\" en WordNet corresponde al NOUN que describe un reloj portátil."
   ]
  },
  {
   "cell_type": "markdown",
   "metadata": {},
   "source": [
    "---\n",
    "- **Ejercicio 7:** En muchas ocasiones, el significado de una palabra polisémica puede determinarse a partir de su categoría gramatical. Por ejemplo, la palabra “watch” adquiere distintas acepciones dependiendo de si funciona como verbo o sustantivo. En este ejercicio, se pide desambiguar la palabra “watch” en función de la categoría gramatical que presenta en dos frases diferentes. Específicamente se pide:\n",
    "    - Identificar la categoría gramatical de la palabra “watch” dentro de las frases “You must watch this film” y “He gave me a watch as a present”.\n",
    "    - A partir de la categoría gramatical, seleccionar el primer synset obtenido en WordNet.\n",
    "    - Observar el resto de synsets que Wordnet proporciona al especificar la categoría gramatical. ¿Ha mejorado la búsqueda de la acepción correcta? ¿Es suficiente?\n"
   ]
  },
  {
   "cell_type": "code",
   "execution_count": null,
   "metadata": {},
   "outputs": [],
   "source": [
    "frase1 = \"You must watch this film\"\n",
    "frase2 = \"He gave me a watch as a present\"\n",
    "word_tokenized1 = word_tokenize(frase1)\n",
    "word_tokenized2 = word_tokenize(frase2)\n",
    "tags1 = nltk.pos_tag(word_tokenized1)\n",
    "tags2 = nltk.pos_tag(word_tokenized2)"
   ]
  },
  {
   "cell_type": "code",
   "execution_count": null,
   "metadata": {},
   "outputs": [],
   "source": [
    "print(tags1)\n",
    "print(tags2)"
   ]
  },
  {
   "cell_type": "code",
   "execution_count": null,
   "metadata": {},
   "outputs": [],
   "source": [
    "print(wordnet.synset(\"watch.v.01\").definition())\n",
    "print(wordnet.synset(\"watch.n.01\").definition())"
   ]
  },
  {
   "cell_type": "code",
   "execution_count": null,
   "metadata": {},
   "outputs": [],
   "source": [
    "watch_v_synsets = wordnet.synsets(\"watch\", pos=wordnet.VERB)\n",
    "watch_n_synsets = wordnet.synsets(\"watch\", pos=wordnet.NOUN)\n",
    "\n",
    "print(\"Synsets cuando watch es un verbo\")\n",
    "for s in watch_v_synsets:\n",
    "    print(f\"Synset: {s.name()}\")\n",
    "    print(f\"Definición: {s.definition()}\")\n",
    "print()\n",
    "print(\"Synsets cuando watch es un nombre\")\n",
    "for s in watch_n_synsets:\n",
    "    print(f\"Synset: {s.name()}\")\n",
    "    print(f\"Definición: {s.definition()}\")"
   ]
  },
  {
   "cell_type": "markdown",
   "metadata": {},
   "source": [
    "Podemos observar que la búsqueda de la acepción correcta ha mejorado, pero no es suficiente, ya que dependemos del orden en que están ordenadas las acepciones de una palabra en WordNet y no siempre se va a utilizar la primera de ellas."
   ]
  },
  {
   "cell_type": "markdown",
   "metadata": {},
   "source": [
    "---\n",
    "- **Ejercicio 8:** Lo más razonable a la hora de desambiguar el sentido de las palabras es tener en cuenta el contexto en el que se encuentran. Uno de los primeros algoritmos desarrollados para abordar este problema es el algoritmo de Lesk. Dada una palabra polisémica y el contexto en el que aparece, el algoritmo de Lesk devuelve el synset con el mayor número de palabras coincidentes entre la frase en la que se encuentra la palabra a desambiguar y las distintas definiciones de los synsets que puede poseer una palabra. \n",
    "    - Se pide usar el algoritmo de Lesk para desambiguar la palabra “bank” en las frases “I went to the bank to deposit my money” y “The land along the river bank has vegetation”. Muestra la definición del synset. ¿Son las acepciones correctas de la palabra? **Nota**: https://www.nltk.org/howto/wsd.html\n",
    "    - Con el paso del tiempo se han ido proponiendo mejoras en el algoritmo original desarrollado por Lesk. Algunas de estas mejoras no solo consideran las definiciones de los synsets proporcionados por WordNet, sino también sus hiperónimos, hipónimos y frases de ejemplo, proporcionando un mayor contexto con el que comparar. Se pide Utiliza algoritmos derivados de Lesk para, nuevamente, desambiguar la palabra “bank” en las mismas frases del apartado anterior. Muestra la definición del synset. ¿Son las acepciones correctas de la palabra? **Nota**: Usar los métodos simple_lesk() / adapted_lesk() de la librería pywsd (https://github.com/alvations/pywsd)."
   ]
  },
  {
   "cell_type": "code",
   "execution_count": null,
   "metadata": {},
   "outputs": [],
   "source": [
    "# EJ. 8, a) Algoritmo de Lesk\n",
    "frase1 = \"I went to the bank to deposit my money\"\n",
    "frase2 = \"The land along the river bank has vegetation\"\n",
    "word_tokenized1 = word_tokenize(frase1)\n",
    "word_tokenized2 = word_tokenize(frase2)\n",
    "synset1 = lesk(word_tokenized1, \"bank\")\n",
    "synset2 = lesk(word_tokenized2, \"bank\")\n",
    "print(f\"Definición de bank en la primera frase: {synset1.definition()}\")\n",
    "print(f\"Definición de bank en la segunda frase: {synset2.definition()}\")"
   ]
  },
  {
   "cell_type": "markdown",
   "metadata": {},
   "source": [
    "Utilizando el algoritmo de Lesk obtenemos una acepción incorrecta de la palabra \"bank\" en la primera frase, ya que el sentido devuelto es el de una hucha en lugar de una entidad que ofrece la posibilidad a sus clientes de depositar y operar con su capital. En cambio, en la segunda frase si se devuelve la acepción correcta del término."
   ]
  },
  {
   "cell_type": "code",
   "execution_count": null,
   "metadata": {},
   "outputs": [],
   "source": [
    "# EJ. 8, b) Mejoras del algoritmo de Lesk\n",
    "synset1_simple = simple_lesk(frase1, \"bank\")\n",
    "synset1_adapted = adapted_lesk(frase1, \"bank\")\n",
    "synset2_simple = simple_lesk(frase2, \"bank\")\n",
    "synset2_adapted = adapted_lesk(frase2, \"bank\")\n",
    "print(f\"Definición de bank en la primera frase (Simple Lesk): {synset1_simple.definition()}\")\n",
    "print(f\"Definición de bank en la primera frase (Adapted Lesk): {synset1_adapted.definition()}\")\n",
    "print(f\"Definición de bank en la segunda frase (Simple Lesk): {synset2_simple.definition()}\")\n",
    "print(f\"Definición de bank en la segunda frase (Adapted Lesk): {synset2_adapted.definition()}\")"
   ]
  },
  {
   "cell_type": "markdown",
   "metadata": {},
   "source": [
    "Utilizando `simple_lesk()` y `adapted_lesk()` obtenemos la acepción correcta del término \"bank\" en ambos casos."
   ]
  }
 ],
 "metadata": {
  "kernelspec": {
   "display_name": "pln1",
   "language": "python",
   "name": "python3"
  },
  "language_info": {
   "codemirror_mode": {
    "name": "ipython",
    "version": 3
   },
   "file_extension": ".py",
   "mimetype": "text/x-python",
   "name": "python",
   "nbconvert_exporter": "python",
   "pygments_lexer": "ipython3",
   "version": "3.12.8"
  }
 },
 "nbformat": 4,
 "nbformat_minor": 2
}
