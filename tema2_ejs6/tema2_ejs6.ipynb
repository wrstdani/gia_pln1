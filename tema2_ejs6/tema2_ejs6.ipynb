{
 "cells": [
  {
   "cell_type": "code",
   "execution_count": 1,
   "metadata": {},
   "outputs": [
    {
     "name": "stderr",
     "output_type": "stream",
     "text": [
      "Warming up PyWSD (takes ~10 secs)... took 2.657538890838623 secs.\n"
     ]
    }
   ],
   "source": [
    "# Importamos Pandas para el manejo de DF\n",
    "import pandas as pd\n",
    "# Importamos NumPy para el manejo de vectores\n",
    "import numpy as np\n",
    "# Importamos NLTK (Natural Language Tool-Kit)\n",
    "import nltk\n",
    "# Importamos el tokenizador de sentencias\n",
    "from nltk.tokenize import PunktSentenceTokenizer\n",
    "# Importamos el tokenizador de palabras\n",
    "from nltk.tokenize import word_tokenize\n",
    "# Importamos WordNet\n",
    "from nltk.corpus import wordnet as wn\n",
    "# Importamos el lexicón de opiniones\n",
    "from nltk.corpus import opinion_lexicon\n",
    "# Importamos SentiWordNet\n",
    "from nltk.corpus import sentiwordnet as swn\n",
    "# Importamos el algoritmo de WSD simple lesk\n",
    "from pywsd import simple_lesk\n",
    "# Importamos las métricas de rendimiento\n",
    "from sklearn.metrics import accuracy_score, precision_score, recall_score, f1_score\n",
    "# Importamos las palabras vacías\n",
    "from nltk.corpus import stopwords\n",
    "# Importamos el clasificador Naive Bayes\n",
    "from nltk.classify import NaiveBayesClassifier\n",
    "# Importamos el clasificador de máxima entropía\n",
    "from nltk.classify import MaxentClassifier\n",
    "# Importamos el corpus de opiniones de películas\n",
    "from nltk.corpus import movie_reviews\n",
    "\n",
    "english_sw = set(stopwords.words(\"english\"))"
   ]
  },
  {
   "cell_type": "markdown",
   "metadata": {},
   "source": [
    "- **Ejercicio 1:** Se quiere desarrollar un evaluador de sentimientos basado en el uso de un recursos lingüístico externo, en concreto, las listas de palabras de opinión que tiene NLTK."
   ]
  },
  {
   "cell_type": "code",
   "execution_count": 2,
   "metadata": {},
   "outputs": [],
   "source": [
    "opinion1 = \"Visceral, stunning and relentless film making. Dicaprio's Herculean, almost purely physical performance\" \\\n",
    "            \"and Hardy's wide eyed intensity coupled with the almost overwhelming beauty of the landscape - those \" \\\n",
    "            \"trees, the natural light, the sun peeking through the clouds, rendered the proceedings down to savage\" \\\n",
    "            \"poetry. A hypnotic, beautiful, exhausting film.\"\n",
    "\n",
    "opinion2 = \"I saw this film on Friday. For the first 40 minutes involving spoken dialogue they need not have \" \\\n",
    "            \"bothered. For me the dialogue was totally unintelligible with grunting, southern states drawl, \" \\\n",
    "            \"and coarse accent that made it impossible to understand what they were saying.\"\n",
    "\n",
    "opinion3 = \"It was a idiotic film that produces a magnificent fascination.\""
   ]
  },
  {
   "cell_type": "code",
   "execution_count": 3,
   "metadata": {},
   "outputs": [],
   "source": [
    "def tokenize_text(text):\n",
    "    sent_tokenized = PunktSentenceTokenizer().tokenize(text)\n",
    "    word_tokenized = [word_tokenize(s) for s in sent_tokenized]\n",
    "    return word_tokenized"
   ]
  },
  {
   "cell_type": "code",
   "execution_count": 4,
   "metadata": {},
   "outputs": [],
   "source": [
    "def classify(text):\n",
    "    word_tokenized = tokenize_text(text)\n",
    "    score = 0\n",
    "    for s in word_tokenized:\n",
    "        for w in s:\n",
    "            if w in opinion_lexicon.positive() and w in opinion_lexicon.negative():\n",
    "                score += 0\n",
    "            elif w in opinion_lexicon.positive():\n",
    "                score += 1\n",
    "            elif w in opinion_lexicon.negative():\n",
    "                score -= 1\n",
    "    if score == 0:\n",
    "        return \"neutro\", score\n",
    "    elif score > 0:\n",
    "        return \"pos\", score\n",
    "    else:\n",
    "        return \"neg\", score"
   ]
  },
  {
   "cell_type": "code",
   "execution_count": 5,
   "metadata": {},
   "outputs": [
    {
     "name": "stdout",
     "output_type": "stream",
     "text": [
      "('pos', 1)\n"
     ]
    }
   ],
   "source": [
    "# Opinión 1\n",
    "print(classify(opinion1))"
   ]
  },
  {
   "cell_type": "code",
   "execution_count": 6,
   "metadata": {},
   "outputs": [
    {
     "name": "stdout",
     "output_type": "stream",
     "text": [
      "('neg', -4)\n"
     ]
    }
   ],
   "source": [
    "# Opinión 2\n",
    "print(classify(opinion2))"
   ]
  },
  {
   "cell_type": "code",
   "execution_count": 7,
   "metadata": {},
   "outputs": [
    {
     "name": "stdout",
     "output_type": "stream",
     "text": [
      "('pos', 1)\n"
     ]
    }
   ],
   "source": [
    "# Opinión 3\n",
    "print(classify(opinion3))"
   ]
  },
  {
   "cell_type": "markdown",
   "metadata": {},
   "source": [
    "---\n",
    "- **Ejercicio 2:** Se pide lo mismo que en el ejercicio anterior, pero en este caso utilizando SentiWordNet (disponible en NLTK). Esta base de datos proporciona valores positivos y negativos para ciertas palabras en un rango entre -1 y 1. Se puede seguir la misma idea de algoritmo que en el caso anterior, pero hay que tener en cuenta que SentiWordNet nos proporciona puntuaciones para los diferentes sentidos que tiene una palabra. Se puede entonces considerar la puntuación de todos los sentidos de la misma palabra, restando a lo positivo la puntuación negativa. Puede ser interesante que la puntuación global se promedie de acuerdo con el número de sentidos.  Utilizar como entrada las mismas opiniones del ejercicio anterior. ¿El resultado es mejor o peor que el conseguido con el algoritmo del ejercicio 1?"
   ]
  },
  {
   "cell_type": "code",
   "execution_count": 8,
   "metadata": {},
   "outputs": [],
   "source": [
    "def classify_swn(text):\n",
    "    word_tokenized = tokenize_text(text)\n",
    "    total_score = 0\n",
    "    for s in word_tokenized:\n",
    "        for w in s:\n",
    "            senti_synsets = list(swn.senti_synsets(w))\n",
    "            word_score = 0\n",
    "            for senti_synset in senti_synsets:\n",
    "                word_score += senti_synset.obj_score()\n",
    "            if len(senti_synsets) > 0:\n",
    "                total_score += word_score / len(senti_synsets)\n",
    "    return total_score"
   ]
  },
  {
   "cell_type": "code",
   "execution_count": 9,
   "metadata": {},
   "outputs": [
    {
     "name": "stdout",
     "output_type": "stream",
     "text": [
      "27.784353633954698\n"
     ]
    }
   ],
   "source": [
    "# Opinión 1\n",
    "print(classify_swn(opinion1))"
   ]
  },
  {
   "cell_type": "code",
   "execution_count": 10,
   "metadata": {},
   "outputs": [
    {
     "name": "stdout",
     "output_type": "stream",
     "text": [
      "27.681840555278054\n"
     ]
    }
   ],
   "source": [
    "# Opinión 2\n",
    "print(classify_swn(opinion2))"
   ]
  },
  {
   "cell_type": "code",
   "execution_count": 11,
   "metadata": {},
   "outputs": [
    {
     "name": "stdout",
     "output_type": "stream",
     "text": [
      "7.056547619047619\n"
     ]
    }
   ],
   "source": [
    "# Opinión 3\n",
    "print(classify_swn(opinion3))"
   ]
  },
  {
   "cell_type": "markdown",
   "metadata": {},
   "source": [
    "- **Ejercicio 2.1:** Hacer una variante del ejercicio donde se tengan en cuenta primero la categoría gramatical del token para considerar únicamente los scores de los sentidos que coincidan con la categoría gramatical dada. ¿Ha mejorado el resultado o ha empeorado con respecto a versiones anteriores?"
   ]
  },
  {
   "cell_type": "code",
   "execution_count": 12,
   "metadata": {},
   "outputs": [],
   "source": [
    "# Función auxiliar para convertir un\n",
    "# tag generado por nltk.pos_tag()\n",
    "# en una categ. gramatical de \n",
    "# WordNet\n",
    "def tag2wn(tag):\n",
    "    if tag.startswith(\"N\"):\n",
    "        return wn.NOUN\n",
    "    elif tag.startswith(\"V\"):\n",
    "        return wn.VERB\n",
    "    elif tag.startswith(\"J\"):\n",
    "        return wn.ADJ\n",
    "    elif tag.startswith(\"R\"):\n",
    "        return wn.ADV\n",
    "    else:\n",
    "        return None\n",
    "\n",
    "def classify_swn_gram(text):\n",
    "    word_tokenized = tokenize_text(text)\n",
    "    tags = [nltk.pos_tag(s) for s in word_tokenized]\n",
    "    total_score = 0\n",
    "    for s in tags:\n",
    "        for w, t in s:\n",
    "            synsets = list(swn.senti_synsets(w, tag2wn(t)))\n",
    "            word_score = 0\n",
    "            for synset in synsets:\n",
    "                word_score += synset.obj_score()\n",
    "            if len(synsets) > 0:\n",
    "                total_score += word_score / len(synsets)\n",
    "    return total_score"
   ]
  },
  {
   "cell_type": "code",
   "execution_count": 13,
   "metadata": {},
   "outputs": [
    {
     "name": "stdout",
     "output_type": "stream",
     "text": [
      "26.805654761904766\n"
     ]
    }
   ],
   "source": [
    "# Opinión 1\n",
    "print(classify_swn_gram(opinion1))"
   ]
  },
  {
   "cell_type": "code",
   "execution_count": 14,
   "metadata": {},
   "outputs": [
    {
     "name": "stdout",
     "output_type": "stream",
     "text": [
      "26.569603892348248\n"
     ]
    }
   ],
   "source": [
    "# Opinión 2\n",
    "print(classify_swn_gram(opinion2))"
   ]
  },
  {
   "cell_type": "code",
   "execution_count": 15,
   "metadata": {},
   "outputs": [
    {
     "name": "stdout",
     "output_type": "stream",
     "text": [
      "7.053113553113552\n"
     ]
    }
   ],
   "source": [
    "# Opinión 3\n",
    "print(classify_swn_gram(opinion3))"
   ]
  },
  {
   "cell_type": "markdown",
   "metadata": {},
   "source": [
    "Notamos que la mejora es más bien leve."
   ]
  },
  {
   "cell_type": "markdown",
   "metadata": {},
   "source": [
    "---\n",
    "- **Ejercicio 3:** Se pide extender lo que se ha hecho en los ejercicios anteriores, pero ampliado para todas las opiniones contenidas en un fichero .csv (textsSentimentsPNN.csv), donde cada opinión está anotada con su polaridad (positiva, negativa o neutra). Un ejemplo del formato del archivo se muestra a continuación, en la primera columna estaría el texto de la opinión y en la segunda el sentimiento (Positive, Negative o Neutral).  \n",
    " \n",
    "    Utilizando de nuevo SentiWordNet se pide predecir la polaridad de cada mensaje. Una vez que se tenga la polaridad de cada mensaje, utilizar las métricas del paquete sklearn.metrics de la librería scikit-learn para obtener los valores de accuracy, precisión, recall y f-measure. En definitiva, se quiere poder cuantificar si se están clasificando bien las opiniones según su polaridad. Cuanto más cercano a 1 sea el valor que se obtiene con estas métricas, mejor estará clasificando cada mensaje."
   ]
  },
  {
   "cell_type": "markdown",
   "metadata": {},
   "source": [
    "---\n",
    "- **Ejercicio 4:** Utilizar el corpus de opiniones de películas disponible en NLTK (corpus_reviews). Lo que se quiere es entrenar un clasificador (en este caso NaiveBayesClassifier) para que aprenda sobre opiniones de películas ya anotadas como positivas o negativas, y así, una vez entrenado, poder conocer la polaridad de nuevas opiniones que queramos probar.  \n",
    "    Se proporciona un código de ejemplo donde se ha partido el conjunto de datos en entrenamiento y test, se ha entrenado el clasificador y se ha evaluado con la parte de test (archivo ClasificadorReviews.py).  \n",
    "    Lo que se pide realmente en el ejercicio es, una vez se tiene el clasificador entrenado, probarlo para que clasifique cada una de las tres opiniones que se han utilizado en los ejercicios 1 y 2 de este listado. Hay que comprobar si el resultado mejora o empeora.\n",
    "    Se pueden hacer pruebas de todos los algoritmos propuestos con otras opiniones para comparar.  \n",
    "    Si se utiliza otro clasificador diferente, ¿podría variar el resultado? Probar a utilizar el clasificador de Máxima Entropía (maxent en NLTK)."
   ]
  },
  {
   "cell_type": "code",
   "execution_count": 16,
   "metadata": {},
   "outputs": [
    {
     "name": "stdout",
     "output_type": "stream",
     "text": [
      "['neg/cv000_29416.txt', 'neg/cv001_19502.txt', 'neg/cv002_17424.txt', 'neg/cv003_12683.txt', 'neg/cv004_12641.txt']\n",
      "['pos/cv000_29590.txt', 'pos/cv001_18431.txt', 'pos/cv002_15918.txt', 'pos/cv003_11664.txt', 'pos/cv004_11636.txt']\n"
     ]
    }
   ],
   "source": [
    "negids = movie_reviews.fileids(\"neg\")\n",
    "posids = movie_reviews.fileids(\"pos\")\n",
    "print(negids[:5])\n",
    "print(posids[:5])"
   ]
  },
  {
   "cell_type": "code",
   "execution_count": 17,
   "metadata": {},
   "outputs": [
    {
     "name": "stdout",
     "output_type": "stream",
     "text": [
      "[({'plot': True, ':': True, 'two': True, 'teen': True, 'couples': True, 'go': True, 'to': True, 'a': True, 'church': True, 'party': True, ',': True, 'drink': True, 'and': True, 'then': True, 'drive': True, '.': True, 'they': True, 'get': True, 'into': True, 'an': True, 'accident': True, 'one': True, 'of': True, 'the': True, 'guys': True, 'dies': True, 'but': True, 'his': True, 'girlfriend': True, 'continues': True, 'see': True, 'him': True, 'in': True, 'her': True, 'life': True, 'has': True, 'nightmares': True, 'what': True, \"'\": True, 's': True, 'deal': True, '?': True, 'watch': True, 'movie': True, '\"': True, 'sorta': True, 'find': True, 'out': True, 'critique': True, 'mind': True, '-': True, 'fuck': True, 'for': True, 'generation': True, 'that': True, 'touches': True, 'on': True, 'very': True, 'cool': True, 'idea': True, 'presents': True, 'it': True, 'bad': True, 'package': True, 'which': True, 'is': True, 'makes': True, 'this': True, 'review': True, 'even': True, 'harder': True, 'write': True, 'since': True, 'i': True, 'generally': True, 'applaud': True, 'films': True, 'attempt': True, 'break': True, 'mold': True, 'mess': True, 'with': True, 'your': True, 'head': True, 'such': True, '(': True, 'lost': True, 'highway': True, '&': True, 'memento': True, ')': True, 'there': True, 'are': True, 'good': True, 'ways': True, 'making': True, 'all': True, 'types': True, 'these': True, 'folks': True, 'just': True, 'didn': True, 't': True, 'snag': True, 'correctly': True, 'seem': True, 'have': True, 'taken': True, 'pretty': True, 'neat': True, 'concept': True, 'executed': True, 'terribly': True, 'so': True, 'problems': True, 'well': True, 'its': True, 'main': True, 'problem': True, 'simply': True, 'too': True, 'jumbled': True, 'starts': True, 'off': True, 'normal': True, 'downshifts': True, 'fantasy': True, 'world': True, 'you': True, 'as': True, 'audience': True, 'member': True, 'no': True, 'going': True, 'dreams': True, 'characters': True, 'coming': True, 'back': True, 'from': True, 'dead': True, 'others': True, 'who': True, 'look': True, 'like': True, 'strange': True, 'apparitions': True, 'disappearances': True, 'looooot': True, 'chase': True, 'scenes': True, 'tons': True, 'weird': True, 'things': True, 'happen': True, 'most': True, 'not': True, 'explained': True, 'now': True, 'personally': True, 'don': True, 'trying': True, 'unravel': True, 'film': True, 'every': True, 'when': True, 'does': True, 'give': True, 'me': True, 'same': True, 'clue': True, 'over': True, 'again': True, 'kind': True, 'fed': True, 'up': True, 'after': True, 'while': True, 'biggest': True, 'obviously': True, 'got': True, 'big': True, 'secret': True, 'hide': True, 'seems': True, 'want': True, 'completely': True, 'until': True, 'final': True, 'five': True, 'minutes': True, 'do': True, 'make': True, 'entertaining': True, 'thrilling': True, 'or': True, 'engaging': True, 'meantime': True, 'really': True, 'sad': True, 'part': True, 'arrow': True, 'both': True, 'dig': True, 'flicks': True, 'we': True, 'actually': True, 'figured': True, 'by': True, 'half': True, 'way': True, 'point': True, 'strangeness': True, 'did': True, 'start': True, 'little': True, 'bit': True, 'sense': True, 'still': True, 'more': True, 'guess': True, 'bottom': True, 'line': True, 'movies': True, 'should': True, 'always': True, 'sure': True, 'before': True, 'given': True, 'password': True, 'enter': True, 'understanding': True, 'mean': True, 'showing': True, 'melissa': True, 'sagemiller': True, 'running': True, 'away': True, 'visions': True, 'about': True, '20': True, 'throughout': True, 'plain': True, 'lazy': True, '!': True, 'okay': True, 'people': True, 'chasing': True, 'know': True, 'need': True, 'how': True, 'giving': True, 'us': True, 'different': True, 'offering': True, 'further': True, 'insight': True, 'down': True, 'apparently': True, 'studio': True, 'took': True, 'director': True, 'chopped': True, 'themselves': True, 'shows': True, 'might': True, 've': True, 'been': True, 'decent': True, 'here': True, 'somewhere': True, 'suits': True, 'decided': True, 'turning': True, 'music': True, 'video': True, 'edge': True, 'would': True, 'actors': True, 'although': True, 'wes': True, 'bentley': True, 'seemed': True, 'be': True, 'playing': True, 'exact': True, 'character': True, 'he': True, 'american': True, 'beauty': True, 'only': True, 'new': True, 'neighborhood': True, 'my': True, 'kudos': True, 'holds': True, 'own': True, 'entire': True, 'feeling': True, 'unraveling': True, 'overall': True, 'doesn': True, 'stick': True, 'because': True, 'entertain': True, 'confusing': True, 'rarely': True, 'excites': True, 'feels': True, 'redundant': True, 'runtime': True, 'despite': True, 'ending': True, 'explanation': True, 'craziness': True, 'came': True, 'oh': True, 'horror': True, 'slasher': True, 'flick': True, 'packaged': True, 'someone': True, 'assuming': True, 'genre': True, 'hot': True, 'kids': True, 'also': True, 'wrapped': True, 'production': True, 'years': True, 'ago': True, 'sitting': True, 'shelves': True, 'ever': True, 'whatever': True, 'skip': True, 'where': True, 'joblo': True, 'nightmare': True, 'elm': True, 'street': True, '3': True, '7': True, '/': True, '10': True, 'blair': True, 'witch': True, '2': True, 'crow': True, '9': True, 'salvation': True, '4': True, 'stir': True, 'echoes': True, '8': True}, 'neg'), ({'the': True, 'happy': True, 'bastard': True, \"'\": True, 's': True, 'quick': True, 'movie': True, 'review': True, 'damn': True, 'that': True, 'y2k': True, 'bug': True, '.': True, 'it': True, 'got': True, 'a': True, 'head': True, 'start': True, 'in': True, 'this': True, 'starring': True, 'jamie': True, 'lee': True, 'curtis': True, 'and': True, 'another': True, 'baldwin': True, 'brother': True, '(': True, 'william': True, 'time': True, ')': True, 'story': True, 'regarding': True, 'crew': True, 'of': True, 'tugboat': True, 'comes': True, 'across': True, 'deserted': True, 'russian': True, 'tech': True, 'ship': True, 'has': True, 'strangeness': True, 'to': True, 'when': True, 'they': True, 'kick': True, 'power': True, 'back': True, 'on': True, 'little': True, 'do': True, 'know': True, 'within': True, 'going': True, 'for': True, 'gore': True, 'bringing': True, 'few': True, 'action': True, 'sequences': True, 'here': True, 'there': True, ',': True, 'virus': True, 'still': True, 'feels': True, 'very': True, 'empty': True, 'like': True, 'all': True, 'flash': True, 'no': True, 'substance': True, 'we': True, 'don': True, 't': True, 'why': True, 'was': True, 'really': True, 'out': True, 'middle': True, 'nowhere': True, 'origin': True, 'what': True, 'took': True, 'over': True, 'just': True, 'big': True, 'pink': True, 'flashy': True, 'thing': True, 'hit': True, 'mir': True, 'course': True, 'donald': True, 'sutherland': True, 'is': True, 'stumbling': True, 'around': True, 'drunkenly': True, 'throughout': True, '\"': True, 'hey': True, 'let': True, 'chase': True, 'these': True, 'people': True, 'with': True, 'some': True, 'robots': True, 'acting': True, 'below': True, 'average': True, 'even': True, 'from': True, 'likes': True, 'you': True, 're': True, 'more': True, 'likely': True, 'get': True, 'her': True, 'work': True, 'halloween': True, 'h20': True, 'wasted': True, 'well': True, 'he': True, 'real': True, 'star': True, 'are': True, 'stan': True, 'winston': True, 'robot': True, 'design': True, 'schnazzy': True, 'cgi': True, 'occasional': True, 'good': True, 'shot': True, 'picking': True, 'into': True, 'someone': True, 'brain': True, 'so': True, 'if': True, 'body': True, 'parts': True, 'turn': True, 'your': True, 'otherwise': True, 'pretty': True, 'much': True, 'sunken': True}, 'neg'), ({'it': True, 'is': True, 'movies': True, 'like': True, 'these': True, 'that': True, 'make': True, 'a': True, 'jaded': True, 'movie': True, 'viewer': True, 'thankful': True, 'for': True, 'the': True, 'invention': True, 'of': True, 'timex': True, 'indiglo': True, 'watch': True, '.': True, 'based': True, 'on': True, 'late': True, '1960': True, \"'\": True, 's': True, 'television': True, 'show': True, 'by': True, 'same': True, 'name': True, ',': True, 'mod': True, 'squad': True, 'tells': True, 'tale': True, 'three': True, 'reformed': True, 'criminals': True, 'under': True, 'employ': True, 'police': True, 'to': True, 'go': True, 'undercover': True, 'however': True, 'things': True, 'wrong': True, 'as': True, 'evidence': True, 'gets': True, 'stolen': True, 'and': True, 'they': True, 'are': True, 'immediately': True, 'suspicion': True, 'course': True, 'ads': True, 'seem': True, 'so': True, 'much': True, 'more': True, 'quick': True, 'cuts': True, 'cool': True, 'music': True, 'claire': True, 'dane': True, 'nice': True, 'hair': True, 'cute': True, 'outfits': True, 'car': True, 'chases': True, 'stuff': True, 'blowing': True, 'up': True, 'sounds': True, 'does': True, 'not': True, '?': True, 'after': True, 'first': True, 'fifteen': True, 'minutes': True, 'quickly': True, 'becomes': True, 'apparent': True, 'certainly': True, 'slick': True, 'looking': True, 'production': True, 'complete': True, 'with': True, 'costumes': True, 'but': True, 'simply': True, 'isn': True, 't': True, 'enough': True, 'film': True, 'best': True, 'described': True, 'cross': True, 'between': True, 'an': True, 'hour': True, '-': True, 'long': True, 'cop': True, 'video': True, 'both': True, 'stretched': True, 'out': True, 'into': True, 'span': True, 'half': True, 'comes': True, 'every': True, 'single': True, 'clich': True, 'doesn': True, 'really': True, 'matter': True, 'most': True, 'plot': True, 'elements': True, 'have': True, 'been': True, 'recycled': True, 'from': True, 'everything': True, 'we': True, 've': True, 'already': True, 'seen': True, 'characters': True, 'acting': True, 'nothing': True, 'spectacular': True, 'sometimes': True, 'even': True, 'bordering': True, 'wooden': True, 'danes': True, 'omar': True, 'epps': True, 'deliver': True, 'their': True, 'lines': True, 'if': True, 'bored': True, 'which': True, 'transfers': True, 'onto': True, 'audience': True, 'only': True, 'one': True, 'escape': True, 'relatively': True, 'unscathed': True, 'giovanni': True, 'ribisi': True, 'who': True, 'plays': True, 'resident': True, 'crazy': True, 'man': True, 'ultimately': True, 'being': True, 'thing': True, 'worth': True, 'watching': True, 'unfortunately': True, 'he': True, 'save': True, 'this': True, 'convoluted': True, 'mess': True, 'all': True, 'don': True, 'do': True, 'apart': True, 'occupying': True, 'screen': True, 'time': True, 'young': True, 'cast': True, 'clothes': True, 'hip': True, 'soundtrack': True, 'appears': True, 'geared': True, 'towards': True, 'teenage': True, 'mindset': True, 'despite': True, 'american': True, 'r': True, 'rating': True, '(': True, 'content': True, 'justify': True, ')': True, 'way': True, 'too': True, 'juvenile': True, 'older': True, 'information': True, 'literally': True, 'spoon': True, 'fed': True, 'would': True, 'be': True, 'hard': True, 'us': True, 'instead': True, 'telling': True, 'dialogue': True, 'poorly': True, 'written': True, 'extremely': True, 'predictable': True, 'progresses': True, 'you': True, 'likely': True, 'won': True, 'care': True, 'heroes': True, 'in': True, 'any': True, 'jeopardy': True, 'because': True, 'll': True, 'know': True, 'aren': True, 'basing': True, 'nobody': True, 'remembers': True, 'questionable': True, 'wisdom': True, 'especially': True, 'when': True, 'considers': True, 'target': True, 'fact': True, 'number': True, 'memorable': True, 'films': True, 'shows': True, 'can': True, 'counted': True, 'hand': True, 'missing': True, 'finger': True, 'or': True, 'two': True, 'times': True, 'i': True, 'checked': True, 'my': True, 'six': True, 'clear': True, 'indication': True, 'them': True, 'than': True, 'attempt': True, 'cash': True, 'spending': True, 'dollar': True, 'judging': True, 'rash': True, 'awful': True, 'teen': True, 'flicks': True, 'seeing': True, 'avoid': True, 'at': True, 'costs': True}, 'neg'), ({'\"': True, 'quest': True, 'for': True, 'camelot': True, 'is': True, 'warner': True, 'bros': True, '.': True, \"'\": True, 'first': True, 'feature': True, '-': True, 'length': True, ',': True, 'fully': True, 'animated': True, 'attempt': True, 'to': True, 'steal': True, 'clout': True, 'from': True, 'disney': True, 's': True, 'cartoon': True, 'empire': True, 'but': True, 'the': True, 'mouse': True, 'has': True, 'no': True, 'reason': True, 'be': True, 'worried': True, 'only': True, 'other': True, 'recent': True, 'challenger': True, 'their': True, 'throne': True, 'was': True, 'last': True, 'fall': True, 'promising': True, 'if': True, 'flawed': True, '20th': True, 'century': True, 'fox': True, 'production': True, 'anastasia': True, 'hercules': True, 'with': True, 'its': True, 'lively': True, 'cast': True, 'and': True, 'colorful': True, 'palate': True, 'had': True, 'her': True, 'beat': True, 'hands': True, 'down': True, 'when': True, 'it': True, 'came': True, 'time': True, 'crown': True, '1997': True, 'best': True, 'piece': True, 'of': True, 'animation': True, 'this': True, 'year': True, 'contest': True, 'as': True, 'pretty': True, 'much': True, 'dead': True, 'on': True, 'arrival': True, 'even': True, 'magic': True, 'kingdom': True, 'at': True, 'most': True, 'mediocre': True, '--': True, 'that': True, 'd': True, 'pocahontas': True, 'those': True, 'you': True, 'keeping': True, 'score': True, 'isn': True, 't': True, 'nearly': True, 'dull': True, 'story': True, 'revolves': True, 'around': True, 'adventures': True, 'free': True, 'spirited': True, 'kayley': True, '(': True, 'voiced': True, 'by': True, 'jessalyn': True, 'gilsig': True, ')': True, 'early': True, 'teen': True, 'daughter': True, 'a': True, 'belated': True, 'knight': True, 'king': True, 'arthur': True, 'round': True, 'table': True, 'dream': True, 'follow': True, 'in': True, 'father': True, 'footsteps': True, 'she': True, 'gets': True, 'chance': True, 'evil': True, 'warlord': True, 'ruber': True, 'gary': True, 'oldman': True, 'an': True, 'ex': True, 'member': True, 'gone': True, 'bad': True, 'steals': True, 'magical': True, 'sword': True, 'excalibur': True, 'accidentally': True, 'loses': True, 'dangerous': True, 'booby': True, 'trapped': True, 'forest': True, 'help': True, 'hunky': True, 'blind': True, 'timberland': True, 'dweller': True, 'garrett': True, 'carey': True, 'elwes': True, 'two': True, 'headed': True, 'dragon': True, 'eric': True, 'idle': True, 'don': True, 'rickles': True, 'always': True, 'arguing': True, 'itself': True, 'just': True, 'might': True, 'able': True, 'break': True, 'medieval': True, 'sexist': True, 'mold': True, 'prove': True, 'worth': True, 'fighter': True, 'side': True, 'missing': True, 'pure': True, 'showmanship': True, 'essential': True, 'element': True, 'ever': True, 'expected': True, 'climb': True, 'high': True, 'ranks': True, 'there': True, 'nothing': True, 'here': True, 'differentiates': True, 'something': True, 'see': True, 'any': True, 'given': True, 'saturday': True, 'morning': True, 'subpar': True, 'instantly': True, 'forgettable': True, 'songs': True, 'poorly': True, 'integrated': True, 'computerized': True, 'footage': True, 'compare': True, 'run': True, 'angry': True, 'ogre': True, 'herc': True, 'battle': True, 'hydra': True, 'i': True, 'rest': True, 'my': True, 'case': True, 'characters': True, 'stink': True, 'none': True, 'them': True, 'are': True, 'remotely': True, 'interesting': True, 'so': True, 'film': True, 'becomes': True, 'race': True, 'which': True, 'one': True, 'can': True, 'out': True, 'bland': True, 'others': True, 'end': True, 'tie': True, 'they': True, 'all': True, 'win': True, 'comedy': True, 'shtick': True, 'awfully': True, 'cloying': True, 'least': True, 'shows': True, 'signs': True, 'pulse': True, 'fans': True, \"-'\": True, '90s': True, 'tgif': True, 'television': True, 'line': True, 'up': True, 'will': True, 'thrilled': True, 'find': True, 'jaleel': True, 'urkel': True, 'white': True, 'bronson': True, 'balki': True, 'pinchot': True, 'sharing': True, 'same': True, 'few': True, 'scenes': True, 'nicely': True, 'realized': True, 'though': True, 'm': True, 'loss': True, 'recall': True, 'enough': True, 'specific': True, 'actors': True, 'providing': True, 'voice': True, 'talent': True, 'enthusiastic': True, 'paired': True, 'singers': True, 'who': True, 'sound': True, 'thing': True, 'like': True, 'big': True, 'musical': True, 'moments': True, 'jane': True, 'seymour': True, 'celine': True, 'dion': True, '?': True, 'must': True, 'strain': True, 'through': True, 'too': True, 'mess': True, 'good': True, 'aside': True, 'fact': True, 'children': True, 'probably': True, 'bored': True, 'watching': True, 'adults': True, 'grievous': True, 'error': True, 'complete': True, 'lack': True, 'personality': True, 'we': True, 'learn': True, 'goes': True, 'very': True, 'long': True, 'way': True}, 'neg'), ({'synopsis': True, ':': True, 'a': True, 'mentally': True, 'unstable': True, 'man': True, 'undergoing': True, 'psychotherapy': True, 'saves': True, 'boy': True, 'from': True, 'potentially': True, 'fatal': True, 'accident': True, 'and': True, 'then': True, 'falls': True, 'in': True, 'love': True, 'with': True, 'the': True, \"'\": True, 's': True, 'mother': True, ',': True, 'fledgling': True, 'restauranteur': True, '.': True, 'unsuccessfully': True, 'attempting': True, 'to': True, 'gain': True, 'woman': True, 'favor': True, 'he': True, 'takes': True, 'pictures': True, 'of': True, 'her': True, 'kills': True, 'number': True, 'people': True, 'his': True, 'way': True, 'comments': True, 'stalked': True, 'is': True, 'yet': True, 'another': True, 'seemingly': True, 'endless': True, 'string': True, 'spurned': True, '-': True, 'psychos': True, 'getting': True, 'their': True, 'revenge': True, 'type': True, 'movies': True, 'which': True, 'are': True, 'stable': True, 'category': True, '1990s': True, 'film': True, 'industry': True, 'both': True, 'theatrical': True, 'direct': True, 'video': True, 'proliferation': True, 'may': True, 'be': True, 'due': True, 'part': True, 'fact': True, 'that': True, 'they': True, 're': True, 'typically': True, 'inexpensive': True, 'produce': True, '(': True, 'no': True, 'special': True, 'effects': True, 'big': True, 'name': True, 'stars': True, ')': True, 'serve': True, 'as': True, 'vehicles': True, 'flash': True, 'nudity': True, 'allowing': True, 'them': True, 'frequent': True, 'late': True, 'night': True, 'cable': True, 'television': True, 'wavers': True, 'slightly': True, 'norm': True, 'one': True, 'respect': True, 'psycho': True, 'never': True, 'actually': True, 'has': True, 'an': True, 'affair': True, ';': True, 'on': True, 'contrary': True, 'rejected': True, 'rather': True, 'quickly': True, 'ex': True, 'lover': True, 'wife': True, 'or': True, 'husband': True, 'other': True, 'than': True, 'just': True, 'redundant': True, 'entry': True, 'doomed': True, 'collect': True, 'dust': True, 'shelves': True, 'viewed': True, 'after': True, 'midnight': True, 'does': True, 'not': True, 'provide': True, 'much': True, 'suspense': True, 'though': True, 'what': True, 'it': True, 'sets': True, 'out': True, 'do': True, 'interspersed': True, 'throughout': True, 'opening': True, 'credits': True, 'for': True, 'instance': True, 'serious': True, 'sounding': True, 'narrator': True, 'spouts': True, 'statistics': True, 'about': True, 'stalkers': True, 'ponders': True, 'cause': True, 'stalk': True, 'implicitly': True, 'implied': True, 'all': True, 'men': True, 'while': True, 'shown': True, 'screen': True, 'these': True, 'snapshot': True, 'actor': True, 'jay': True, 'underwood': True, 'appears': True, 'states': True, '\"': True, 'this': True, 'story': True, 'daryl': True, 'gleason': True, 'tells': True, 'audience': True, 'stalker': True, 'course': True, 'really': True, 'brooke': True, 'daniels': True, 'if': True, 'movie': True, 'was': True, 'meant': True, 'should': True, 'have': True, 'been': True, 'called': True, 'okay': True, 'so': True, 'we': True, 'know': True, 'who': True, 'even': True, 'before': True, 'starts': True, 'guesswork': True, 'required': True, 'proceeds': True, 'begins': True, 'obvious': True, 'sequence': True, 'contrived': True, 'quite': True, 'bit': True, 'brings': True, 'victim': True, 'together': True, 'obsesses': True, 'over': True, 'follows': True, 'around': True, 'tries': True, 'woo': True, 'ultimately': True, 'by': True, 'plans': True, 'become': True, 'more': True, 'desperate': True, 'elaborate': True, 'include': True, 'time': True, 'cliche': True, 'murdered': True, 'pet': True, 'some': True, 'reason': True, 'genre': True, 'films': True, 'require': True, 'dead': True, 'found': True, 'exception': True, 'cat': True, '--': True, 'shower': True, 'events': True, 'like': True, 'lead': True, 'inevitable': True, 'showdown': True, 'between': True, 'where': True, 'only': True, 'survives': True, 'guess': True, 'invariably': True, 'always': True, 'you': True, 'll': True, 'conclusion': True, 'turkey': True, 'cast': True, 'uniformly': True, 'adequate': True, 'anything': True, 'write': True, 'home': True, 'but': True, 'also': True, 'bad': True, 'either': True, 'turns': True, 'toward': True, 'melodrama': True, 'too': True, 'overdoes': True, 'words': True, 'still': True, 'manages': True, 'creepy': True, 'enough': True, 'pass': True, 'demands': True, 'maryam': True, 'd': True, 'abo': True, 'close': True, 'being': True, 'star': True, 'here': True, 'she': True, 'played': True, 'bond': True, 'chick': True, 'living': True, 'daylights': True, 'equally': True, 'title': True, 'seems': True, 'ditzy': True, 'at': True, 'times': True, 'strong': True, 'independent': True, 'business': True, 'owner': True, 'needs': True, 'however': True, 'plot': True, 'proceed': True, 'end': True, 'example': True, 'suspicions': True, 'ensure': True, 'won': True, 't': True, 'use': True, 'excuse': True, 'see': True, 'decides': True, 'return': True, 'toolbox': True, 'had': True, 'left': True, 'place': True, 'house': True, 'leave': True, 'door': True, 'when': True, 'answers': True, '?': True, 'opens': True, 'wanders': True, 'returns': True, 'enters': True, 'our': True, 'heroine': True, 'danger': True, 'somehow': True, 'car': True, 'parked': True, 'front': True, 'right': True, 'oblivious': True, 'presence': True, 'inside': True, 'whole': True, 'episode': True, 'places': True, 'incredible': True, 'strain': True, 'suspension': True, 'disbelief': True, 'questions': True, 'validity': True, 'character': True, 'intelligence': True, 'receives': True, 'two': True, 'because': True, 'highly': True, 'derivative': True, 'somewhat': True, 'boring': True, 'cannot': True, 'watched': True, 'rated': True, 'r': True, 'mostly': True, 'several': True, 'murder': True, 'scenes': True, 'brief': True, 'strip': True, 'bar': True, 'offensive': True, 'many': True, 'thrillers': True, 'mood': True, 'good': True, 'stake': True, 'something': True, 'else': True}, 'neg')]\n",
      "[({'films': True, 'adapted': True, 'from': True, 'comic': True, 'books': True, 'have': True, 'had': True, 'plenty': True, 'of': True, 'success': True, ',': True, 'whether': True, 'they': True, \"'\": True, 're': True, 'about': True, 'superheroes': True, '(': True, 'batman': True, 'superman': True, 'spawn': True, ')': True, 'or': True, 'geared': True, 'toward': True, 'kids': True, 'casper': True, 'the': True, 'arthouse': True, 'crowd': True, 'ghost': True, 'world': True, 'but': True, 'there': True, 's': True, 'never': True, 'really': True, 'been': True, 'a': True, 'book': True, 'like': True, 'hell': True, 'before': True, '.': True, 'for': True, 'starters': True, 'it': True, 'was': True, 'created': True, 'by': True, 'alan': True, 'moore': True, 'and': True, 'eddie': True, 'campbell': True, 'who': True, 'brought': True, 'medium': True, 'to': True, 'whole': True, 'new': True, 'level': True, 'in': True, 'mid': True, '80s': True, 'with': True, '12': True, '-': True, 'part': True, 'series': True, 'called': True, 'watchmen': True, 'say': True, 'thoroughly': True, 'researched': True, 'subject': True, 'jack': True, 'ripper': True, 'would': True, 'be': True, 'saying': True, 'michael': True, 'jackson': True, 'is': True, 'starting': True, 'look': True, 'little': True, 'odd': True, '\"': True, 'graphic': True, 'novel': True, 'if': True, 'you': True, 'will': True, 'over': True, '500': True, 'pages': True, 'long': True, 'includes': True, 'nearly': True, '30': True, 'more': True, 'that': True, 'consist': True, 'nothing': True, 'footnotes': True, 'other': True, 'words': True, 'don': True, 't': True, 'dismiss': True, 'this': True, 'film': True, 'because': True, 'its': True, 'source': True, 'can': True, 'get': True, 'past': True, 'thing': True, 'might': True, 'find': True, 'another': True, 'stumbling': True, 'block': True, 'directors': True, 'albert': True, 'allen': True, 'hughes': True, 'getting': True, 'brothers': True, 'direct': True, 'seems': True, 'almost': True, 'as': True, 'ludicrous': True, 'casting': True, 'carrot': True, 'top': True, 'well': True, 'anything': True, 'riddle': True, 'me': True, ':': True, 'better': True, 'set': True, 'ghetto': True, 'features': True, 'violent': True, 'street': True, 'crime': True, 'than': True, 'mad': True, 'geniuses': True, 'behind': True, 'menace': True, 'ii': True, 'society': True, '?': True, 'question': True, 'course': True, 'whitechapel': True, '1888': True, 'london': True, 'east': True, 'end': True, 'filthy': True, 'sooty': True, 'place': True, 'where': True, 'whores': True, 'unfortunates': True, 'are': True, 'nervous': True, 'mysterious': True, 'psychopath': True, 'has': True, 'carving': True, 'through': True, 'their': True, 'profession': True, 'surgical': True, 'precision': True, 'when': True, 'first': True, 'stiff': True, 'turns': True, 'up': True, 'copper': True, 'peter': True, 'godley': True, 'robbie': True, 'coltrane': True, 'not': True, 'enough': True, 'calls': True, 'inspector': True, 'frederick': True, 'abberline': True, 'johnny': True, 'depp': True, 'blow': True, 'crack': True, 'case': True, 'widower': True, 'prophetic': True, 'dreams': True, 'he': True, 'unsuccessfully': True, 'tries': True, 'quell': True, 'copious': True, 'amounts': True, 'absinthe': True, 'opium': True, 'upon': True, 'arriving': True, 'befriends': True, 'an': True, 'unfortunate': True, 'named': True, 'mary': True, 'kelly': True, 'heather': True, 'graham': True, 'isn': True, 'so': True, 'proceeds': True, 'investigate': True, 'horribly': True, 'gruesome': True, 'crimes': True, 'even': True, 'police': True, 'surgeon': True, 'stomach': True, 'i': True, 'think': True, 'anyone': True, 'needs': True, 'briefed': True, 'on': True, 'won': True, 'go': True, 'into': True, 'particulars': True, 'here': True, 'unique': True, 'interesting': True, 'theory': True, 'both': True, 'identity': True, 'killer': True, 'reasons': True, 'chooses': True, 'slay': True, 'bother': True, 'cloaking': True, 'screenwriters': True, 'terry': True, 'hayes': True, 'vertical': True, 'limit': True, 'rafael': True, 'yglesias': True, 'les': True, 'mis': True, 'rables': True, 'do': True, 'good': True, 'job': True, 'keeping': True, 'him': True, 'hidden': True, 'viewers': True, 'until': True, 'very': True, 'funny': True, 'watch': True, 'locals': True, 'blindly': True, 'point': True, 'finger': True, 'blame': True, 'at': True, 'jews': True, 'indians': True, 'after': True, 'all': True, 'englishman': True, 'could': True, 'capable': True, 'committing': True, 'such': True, 'ghastly': True, 'acts': True, 'ending': True, 'whistling': True, 'stonecutters': True, 'song': True, 'simpsons': True, 'days': True, 'holds': True, 'back': True, 'electric': True, 'car': True, '/': True, 'made': True, 'steve': True, 'guttenberg': True, 'star': True, 'worry': True, 'll': True, 'make': True, 'sense': True, 'see': True, 'now': True, 'onto': True, 'appearance': True, 'certainly': True, 'dark': True, 'bleak': True, 'surprising': True, 'how': True, 'much': True, 'looks': True, 'tim': True, 'burton': True, 'planet': True, 'apes': True, 'did': True, 'times': True, 'sleepy': True, 'hollow': True, '2': True, 'print': True, 'saw': True, 'wasn': True, 'completely': True, 'finished': True, 'color': True, 'music': True, 'finalized': True, 'no': True, 'comments': True, 'marilyn': True, 'manson': True, 'cinematographer': True, 'deming': True, 'word': True, 'ably': True, 'captures': True, 'dreariness': True, 'victorian': True, 'era': True, 'helped': True, 'flashy': True, 'killing': True, 'scenes': True, 'remind': True, 'crazy': True, 'flashbacks': True, 'twin': True, 'peaks': True, 'though': True, 'violence': True, 'pales': True, 'comparison': True, 'black': True, 'white': True, 'oscar': True, 'winner': True, 'martin': True, 'childs': True, 'shakespeare': True, 'love': True, 'production': True, 'design': True, 'original': True, 'prague': True, 'surroundings': True, 'one': True, 'creepy': True, 'acting': True, 'solid': True, 'dreamy': True, 'turning': True, 'typically': True, 'strong': True, 'performance': True, 'deftly': True, 'handling': True, 'british': True, 'accent': True, 'ians': True, 'holm': True, 'joe': True, 'gould': True, 'secret': True, 'richardson': True, '102': True, 'dalmatians': True, 'log': True, 'great': True, 'supporting': True, 'roles': True, 'big': True, 'surprise': True, 'cringed': True, 'time': True, 'she': True, 'opened': True, 'her': True, 'mouth': True, 'imagining': True, 'attempt': True, 'irish': True, 'actually': True, 'half': True, 'bad': True, 'however': True, '00': True, 'r': True, 'gore': True, 'sexuality': True, 'language': True, 'drug': True, 'content': True}, 'pos'), ({'every': True, 'now': True, 'and': True, 'then': True, 'a': True, 'movie': True, 'comes': True, 'along': True, 'from': True, 'suspect': True, 'studio': True, ',': True, 'with': True, 'indication': True, 'that': True, 'it': True, 'will': True, 'be': True, 'stinker': True, 'to': True, 'everybody': True, \"'\": True, 's': True, 'surprise': True, '(': True, 'perhaps': True, 'even': True, 'the': True, ')': True, 'film': True, 'becomes': True, 'critical': True, 'darling': True, '.': True, 'mtv': True, 'films': True, '_election': True, 'high': True, 'school': True, 'comedy': True, 'starring': True, 'matthew': True, 'broderick': True, 'reese': True, 'witherspoon': True, 'is': True, 'current': True, 'example': True, 'did': True, 'anybody': True, 'know': True, 'this': True, 'existed': True, 'week': True, 'before': True, 'opened': True, '?': True, 'plot': True, 'deceptively': True, 'simple': True, 'george': True, 'washington': True, 'carver': True, 'having': True, 'student': True, 'elections': True, 'tracy': True, 'flick': True, 'an': True, 'over': True, '-': True, 'achiever': True, 'her': True, 'hand': True, 'raised': True, 'at': True, 'nearly': True, 'question': True, 'way': True, 'mr': True, '\"': True, 'm': True, 'sick': True, 'of': True, 'megalomaniac': True, 'encourages': True, 'paul': True, 'popular': True, 'but': True, 'slow': True, 'jock': True, 'run': True, 'nihilistic': True, 'sister': True, 'jumps': True, 'in': True, 'race': True, 'as': True, 'well': True, 'for': True, 'personal': True, 'reasons': True, 'dark': True, 'side': True, 'such': True, 'sleeper': True, 'success': True, 'because': True, 'expectations': True, 'were': True, 'so': True, 'low': True, 'going': True, 'fact': True, 'was': True, 'quality': True, 'stuff': True, 'made': True, 'reviews': True, 'more': True, 'enthusiastic': True, 'than': True, 'they': True, 'have': True, 'any': True, 'right': True, 'you': True, 'can': True, 't': True, 'help': True, 'baggage': True, 'glowing': True, 'which': True, 'contrast': True, 'negative': True, 'reviewers': True, 'likely': True, 'good': True, 'does': True, 'not': True, 'live': True, 'up': True, 'its': True, 'hype': True, 'what': True, 'makes': True, '_election_': True, 'disappointing': True, 'contains': True, 'significant': True, 'details': True, 'lifted': True, 'directly': True, '_rushmore_': True, 'released': True, 'few': True, 'months': True, 'earlier': True, 'similarities': True, 'are': True, 'staggering': True, ':': True, 'president': True, 'extraordinary': True, 'number': True, 'clubs': True, 'involved': True, 'play': True, 'max': True, 'fischer': True, 'most': True, 'tension': True, 'potential': True, 'relationship': True, 'between': True, 'teacher': True, 'his': True, 'single': True, 'parent': True, 'home': True, 'has': True, 'contributed': True, 'drive': True, 'male': True, 'bumbling': True, 'adult': True, 'pursues': True, 'extramarital': True, 'affair': True, 'gets': True, 'caught': True, 'whole': True, 'life': True, 'ruined': True, 'he': True, 'bee': True, 'sting': True, 'bill': True, 'murray': True, 'several': True, 'stings': True, 'on': True, 'happened': True, 'how': True, 'individual': True, 'screenplay': True, 'novel': True, 'contain': True, 'many': True, 'points': True, 'yet': True, 'both': True, 'probably': True, 'aware': True, 'each': True, 'other': True, 'two': True, 'different': True, 'studios': True, 'genre': True, 'geeks': True, 'revenge': True, 'hadn': True, 'been': True, 'fully': True, 'formed': True, 'strengths': True, 'rely': True, 'upon': True, 'fantastic': True, 'performances': True, 'newcomer': True, 'jessica': True, 'campbell': True, 'anti': True, 'social': True, 'tammy': True, 'here': True, 'playing': True, 'rooney': True, 'role': True, '_ferris': True, 'bueller_': True, 'seems': True, 'fun': True, 'had': True, 'since': True, 'revelation': True, 'early': True, 'year': True, 'teenagers': True, 'little': True, 'clout': True, 'my': True, 'money': True, 'deserves': True, 'oscar': True, 'nomination': True, 'once': True, 'character': True, 'like': True, 'speech': True, 'gymnasium': True, 're': True, 'won': True, 'one': True, 'thing': True, 'bothering': True, 'me': True, 'i': True, 've': True, 'seen': True, 'there': True, 'amount': True, 'sexuality': True, 'suppose': True, 'coming': True, 'should': True, 'expect': True, 'no': True, 'less': True, 'starts': True, 'off': True, 'light': True, 'airy': True, 'sitcom': True, 'screws': True, 'tighten': True, 'tensions': True, 'mount': True, 'alexander': True, 'payne': True, 'decides': True, 'add': True, 'elements': True, 'frankly': True, 'distract': True, 'story': True, 'bad': True, 'enough': True, 'doesn': True, 'determination': True, 'win': True, 'all': True, 'costs': True, 'throw': True, '/': True, 'logical': True, 'reason': True, 'why': True, 'when': True, 'lot': True, 'tonal': True, 'nosedive': True, 'takes': True, 'explicitly': True, 'sex': True, 'driven': True, 'mark': True, 'disappointment': True}, 'pos'), ({'you': True, \"'\": True, 've': True, 'got': True, 'mail': True, 'works': True, 'alot': True, 'better': True, 'than': True, 'it': True, 'deserves': True, 'to': True, '.': True, 'in': True, 'order': True, 'make': True, 'the': True, 'film': True, 'a': True, 'success': True, ',': True, 'all': True, 'they': True, 'had': True, 'do': True, 'was': True, 'cast': True, 'two': True, 'extremely': True, 'popular': True, 'and': True, 'attractive': True, 'stars': True, 'have': True, 'them': True, 'share': True, 'screen': True, 'for': True, 'about': True, 'hours': True, 'then': True, 'collect': True, 'profits': True, 'no': True, 'real': True, 'acting': True, 'involved': True, 'there': True, 'is': True, 'not': True, 'an': True, 'original': True, 'or': True, 'inventive': True, 'bone': True, 's': True, 'body': True, '(': True, 'basically': True, 'complete': True, 're': True, '-': True, 'shoot': True, 'of': True, 'shop': True, 'around': True, 'corner': True, 'only': True, 'adding': True, 'few': True, 'modern': True, 'twists': True, ')': True, 'essentially': True, 'goes': True, 'against': True, 'defies': True, 'concepts': True, 'good': True, 'contemporary': True, 'filmmaking': True, 'overly': True, 'sentimental': True, 'at': True, 'times': True, 'terribly': True, 'mushy': True, 'mention': True, 'very': True, 'manipulative': True, 'but': True, 'oh': True, 'how': True, 'enjoyable': True, 'that': True, 'manipulation': True, 'must': True, 'be': True, 'something': True, 'other': True, 'casting': True, 'makes': True, 'movie': True, 'work': True, 'as': True, 'well': True, 'does': True, 'because': True, 'i': True, 'absolutely': True, 'hated': True, 'previous': True, 'ryan': True, '/': True, 'hanks': True, 'teaming': True, 'sleepless': True, 'seattle': True, 'couldn': True, 't': True, 'been': True, 'directing': True, 'both': True, 'films': True, 'were': True, 'helmed': True, 'by': True, 'same': True, 'woman': True, 'haven': True, 'quite': True, 'yet': True, 'figured': True, 'out': True, 'what': True, 'liked': True, 'so': True, 'much': True, 'again': True, 'really': True, 'important': True, '?': True, 'if': True, 'like': True, 'why': True, 'even': True, 'question': True, 'storyline': True, 'cliched': True, 'come': True, 'tom': True, 'plays': True, 'joe': True, 'fox': True, 'insanely': True, 'likeable': True, 'owner': True, 'discount': True, 'book': True, 'chain': True, 'meg': True, 'kathleen': True, 'kelley': True, 'more': True, 'proprietor': True, 'family': True, 'run': True, 'children': True, 'called': True, 'nice': True, 'homage': True, 'soon': True, 'become': True, 'bitter': True, 'rivals': True, 'new': True, 'books': True, 'store': True, 'opening': True, 'up': True, 'right': True, 'across': True, 'block': True, 'from': True, 'small': True, 'business': True, 'little': True, 'know': True, 'are': True, 'already': True, 'love': True, 'with': True, 'each': True, 'over': True, 'internet': True, 'neither': True, 'party': True, 'knows': True, 'person': True, 'true': True, 'identity': True, 'rest': True, 'story': True, 'isn': True, 'serve': True, 'mere': True, 'backdrop': True, 'sure': True, 'some': True, 'mildly': True, 'interesting': True, 'subplots': True, 'fail': True, 'comparison': True, 'utter': True, 'cuteness': True, 'main': True, 'relationship': True, 'this': True, 'course': True, 'leads': True, 'predictable': True, 'climax': True, 'foreseeable': True, 'ending': True, 'damn': True, 'cute': True, 'done': True, 'doubt': True, 'any': True, 'entire': True, 'year': True, 'contains': True, 'scene': True, 'evokes': True, 'pure': True, 'joy': True, 'part': True, 'when': True, 'discovers': True, 'her': True, 'online': True, 'filled': True, 'such': True, 'lack': True, 'word': True, 'happiness': True, 'first': True, 'time': True, 'actually': True, 'left': True, 'theater': True, 'smiling': True}, 'pos'), ({'\"': True, 'jaws': True, 'is': True, 'a': True, 'rare': True, 'film': True, 'that': True, 'grabs': True, 'your': True, 'attention': True, 'before': True, 'it': True, 'shows': True, 'you': True, 'single': True, 'image': True, 'on': True, 'screen': True, '.': True, 'the': True, 'movie': True, 'opens': True, 'with': True, 'blackness': True, ',': True, 'and': True, 'only': True, 'distant': True, 'alien': True, '-': True, 'like': True, 'underwater': True, 'sounds': True, 'then': True, 'comes': True, 'first': True, 'ominous': True, 'bars': True, 'of': True, 'composer': True, 'john': True, 'williams': True, \"'\": True, 'now': True, 'infamous': True, 'score': True, 'dah': True, 'dum': True, 'from': True, 'there': True, 'director': True, 'steven': True, 'spielberg': True, 'wastes': True, 'no': True, 'time': True, 'taking': True, 'us': True, 'into': True, 'water': True, 'midnight': True, 'swim': True, 'beautiful': True, 'girl': True, 'turns': True, 'deadly': True, 'right': True, 'away': True, 'he': True, 'lets': True, 'know': True, 'how': True, 'vulnerable': True, 'we': True, 'all': True, 'are': True, 'floating': True, 'in': True, 'ocean': True, 'once': True, 'has': True, 'attacked': True, 'never': True, 'relinquishes': True, 'its': True, 'grip': True, 'perhaps': True, 'what': True, 'most': True, 'outstanding': True, 'about': True, 'builds': True, 'works': True, 'theatrical': True, 'production': True, 'act': True, 'second': True, 'unlike': True, 'so': True, 'many': True, 'modern': True, 'filmmakers': True, 'great': True, 'deal': True, 'restraint': True, 'refuses': True, 'to': True, 'show': True, 'shark': True, 'until': True, 'middle': True, 'merely': True, 'suggests': True, 'presence': True, 'creepy': True, 'subjective': True, 'shots': True, 'music': True, 's': True, 'building': True, 'tension': True, 'bit': True, 'by': True, 'when': True, 'for': True, 'climax': True, 'arrival': True, 'truly': True, 'terrifying': True, 'doesn': True, 't': True, 'let': True, 'get': True, 'bored': True, 'imagery': True, 'police': True, 'chief': True, 'martin': True, 'brody': True, '(': True, 'roy': True, 'scheider': True, ')': True, 'new': True, 'york': True, 'cop': True, 'who': True, 'taken': True, 'an': True, 'easy': True, 'peaceful': True, 'job': True, 'running': True, 'station': True, 'amity': True, 'island': True, 'fictitious': True, 'england': True, 'resort': True, 'town': True, 'where': True, 'hasn': True, 'been': True, 'murder': True, 'or': True, 'gun': True, 'fired': True, '25': True, 'years': True, 'shaken': True, 'up': True, 'several': True, 'vicious': True, 'white': True, 'attacks': True, 'fourth': True, 'july': True, 'mayor': True, 'larry': True, 'vaughn': True, 'murray': True, 'hamilton': True, 'want': True, 'shut': True, 'down': True, 'beaches': True, 'because': True, 'reliant': True, 'summer': True, 'tourist': True, 'money': True, 'joined': True, 'matt': True, 'hooper': True, 'richard': True, 'dreyfuss': True, 'young': True, 'ambitious': True, 'expert': True, 'marine': True, 'institute': True, 'as': True, 'fascinated': True, 'determined': True, 'help': True, 'stop': True, '--': True, 'his': True, 'knowledge': True, 'exact': True, 'workings': True, 'perfect': True, 'engine': True, 'eating': True, 'machine': True, 'make': True, 'much': True, 'more': True, 'finally': True, 'relents': True, 'join': True, 'crusty': True, 'old': True, 'killer': True, 'named': True, 'quint': True, 'robert': True, 'shaw': True, 'decrepit': True, 'boat': True, 'orca': True, 'search': True, 'entire': True, 'takes': True, 'place': True, 'three': True, 'men': True, 'hunt': True, 'inevitably': True, 'hunted': True, 'thriller': True, 'keen': True, 'sense': True, 'humor': True, 'incredible': True, 'pacing': True, 'horror': True, 'ten': True, 'movies': True, 'rolled': True, 'one': True, 'wonder': True, 'took': True, 'america': True, 'storm': True, '1975': True, 'enough': True, 'crown': True, 'box': True, 'office': True, 'champ': True, 'was': True, 'unceremoniously': True, 'dethroned': True, '1977': True, 'star': True, 'wars': True, 'even': True, 'today': True, 'fascination': True, 'this': True, 'par': True, 'hitchcock': True, 'psycho': True, 'seems': True, 'age': True, 'although': True, 'grand': True, 'technology': True, 'exists': True, 'makes': True, 'technical': True, 'sequences': True, 'including': True, 'mechanical': True, 'sharks': True, 'obsolete': True, 'none': True, 'could': True, 'improve': True, 'would': True, 'lead': True, 'overkill': True, 'limitations': True, 'faced': True, 'may': True, 'have': True, 'actually': True, 'produced': True, 'better': True, 'forced': True, 'him': True, 'rely': True, 'traditional': True, 'cinematic': True, 'elements': True, 'characterization': True, 'sharp': True, 'editing': True, 'creative': True, 'photography': True, 'instead': True, 'simply': True, 'dousing': True, 'audience': True, 'digital': True, 'effects': True, 'were': True, 'known': True, 'actors': True, 'at': True, 'made': True, 'but': True, 'them': True, 'had': True, 'draw': True, 'redford': True, 'paul': True, 'newman': True, 'nevertheless': True, 'guaranteed': True, 'successful': True, 'careers': True, 'each': True, 'gave': True, 'performance': True, 'refused': True, 'be': True, 'overshadowed': True, 'hits': True, 'just': True, 'notes': True, 'sympathetic': True, 'husband': True, 'father': True, 'caught': True, 'political': True, 'quagmire': True, 'doing': True, 'going': True, 'against': True, 'here': True, 'warns': True, 'previously': True, 'seen': True, 'american': True, 'graffiti': True, '1973': True, 'apprenticeship': True, 'duddy': True, 'kravitz': True, '1974': True, 'gives': True, 'surprisingly': True, 'mature': True, 'complex': True, 'someone': True, 'literally': True, 'played': True, 'kids': True, 'teenagers': True, 'however': True, 'gnarled': True, 'captain': True, 'ahab': True, 'sorely': True, 'overlooked': True, 'academy': True, 'awards': True, 'bordering': True, 'parody': True, 'plays': True, 'grizzled': True, 'loner': True, 'whose': True, 'machismo': True, 'borders': True, 'masochism': True, 'slightly': True, 'deranged': True, 'almost': True, 'caricature': True, 'scene': True, 'late': True, 'below': True, 'deck': True, 'comparing': True, 'scars': True, 'drawn': True, 'telling': True, 'story': True, 'experiences': True, 'aboard': True, 'u': True, 'indianapolis': True, 'navy': True, 'ship': True, 'world': True, 'war': True, 'ii': True, 'sunk': True, 'japanese': True, 'tale': True, 'than': True, 'week': True, 'over': True, '1': True, '000': True, 'other': True, 'while': True, 'swarms': True, 'slowly': True, 'devoured': True, 'hair': True, 'raising': True, 'anything': True, 'put': True, 'delivers': True, 'long': True, 'take': True, 'best': True, 'acting': True, 'course': True, 'can': True, 'leave': True, 'out': True, 'itself': True, ';': True, 'black': True, 'eyes': True, 'endless': True, 'rows': True, 'teeth': True, 'insatiable': True, 'urge': True, 'eat': True, 'basically': True, 'epitome': True, 'mankind': True, 'fears': True, 'unknown': True, 'threatening': True, 'nature': True, 'such': True, 'nemesis': True, 'real': True, 'having': True, 'survived': True, 'sinch': True, 'dinosaurs': True, 'whites': True, 'do': True, 'exist': True, 'they': True, 'large': True, 'threat': True, 'every': True, 'feel': True, 'queasy': True, 'see': True, 'look': True, ':': True, 'bunch': True, 'writihing': True, 'dangling': True, 'completely': True, 'unprotected': True, 'legs': True, 'ready': True, 'chomped': True, 'combination': True, 'actual': True, 'footage': True, 'five': True, 'different': True, 'nicknamed': True, 'bruce': True, 'crew': True, 'built': True, 'shot': True, 'angles': True, 'forgotten': True, 'sort': True, 'precursor': True, 'waterworld': True, '1995': True, 'soggy': True, 'cost': True, 'overruns': True, 'universal': True, 'studios': True, 'worried': True, 'bomb': True, 'overcame': True, 'obstacles': True, 'delivered': True, 'finest': True, 'primal': True, 'scare': True, 'thrillers': True, 'ever': True, 'come': True, 'hollywood': True}, 'pos'), ({'moviemaking': True, 'is': True, 'a': True, 'lot': True, 'like': True, 'being': True, 'the': True, 'general': True, 'manager': True, 'of': True, 'an': True, 'nfl': True, 'team': True, 'in': True, 'post': True, '-': True, 'salary': True, 'cap': True, 'era': True, '--': True, 'you': True, \"'\": True, 've': True, 'got': True, 'to': True, 'know': True, 'how': True, 'allocate': True, 'your': True, 'resources': True, '.': True, 'every': True, 'dollar': True, 'spent': True, 'on': True, 'free': True, 'agent': True, 'defensive': True, 'tackle': True, 'one': True, 'less': True, 'than': True, 'can': True, 'spend': True, 'linebackers': True, 'or': True, 'safeties': True, 'centers': True, ',': True, 'this': True, 'leads': True, 'teams': True, 'detroit': True, 'lions': True, 'who': True, 'boast': True, 'superstar': True, 'running': True, 'back': True, 'with': True, 'huge': True, 'contract': True, 'but': True, 'only': True, 'field': True, 'five': True, 'guys': True, 'named': True, 'herb': True, 'block': True, 'for': True, 'him': True, 'movies': True, 'end': True, 'up': True, 'films': True, '\"': True, 'spawn': True, 'special': True, 'effects': True, 'budget': True, 'not': True, 'enough': True, 'money': True, 'hire': True, 'any': True, 'recognizable': True, 'actors': True, 'jackie': True, 'chan': True, 'barry': True, 'sanders': True, 'he': True, 'spins': True, 'and': True, 'darts': True, 'across': True, 'screen': True, 'cutting': True, 'through': True, 'line': True, 'watching': True, 'operation': True, 'condor': True, 'as': True, 'drives': True, 'his': True, 'motorcycle': True, 'crowded': True, 'streets': True, 'madrid': True, 'fleeing': True, 'armada': True, 'pursuers': True, 'identical': True, 'black': True, 'compact': True, 'cars': True, 'reminiscent': True, 'daylight': True, 'chicago': True, 'bears': True, 'hot': True, 'pursuit': True, 'except': True, 'that': True, 'doesn': True, 't': True, 'have': True, 'worry': True, 'about': True, 'rescuing': True, 'runaway': True, 'baby': True, 'carriages': True, 'star': True, 'anybody': True, 'almost': True, 'cent': True, 's': True, 'invested': True, 'movie': True, 'goes': True, 'stunts': True, 'does': True, 'own': True, 'rest': True, 'pay': True, 'hospital': True, 'bills': True, 'leaves': True, '75': True, 'cents': True, 'things': True, 'directors': True, '(': True, 'directs': True, ')': True, 'scripts': True, 'dubbing': True, 'supporting': True, 'characters': True, 'mention': True, 'hideous': True, 'title': True, 'sequence': True, 'also': True, 'explains': True, 'why': True, 'was': True, 'shot': True, 'odd': True, 'places': True, 'morocco': True, 'spain': True, 'first': True, 'release': True, 'country': True, 'rumble': True, 'bronx': True, 'supposedly': True, 'set': True, 'new': True, 'york': True, 'filmed': True, 'vancouver': True, 'chase': True, 'scenes': True, 'canadian': True, 'rockies': True, 'are': True, 'clearly': True, 'visible': True, 'heck': True, 'even': True, 'haircut': True, 'looks': True, 'much': True, 'personal': True, 'hairstylist': True, 'plays': True, 'same': True, 'character': True, 'always': True, 'played': True, 'himself': True, 'mixture': True, 'bruce': True, 'lee': True, 'tim': True, 'allen': True, 'master': True, 'both': True, 'kung': True, 'fu': True, 'slapstick': True, 'sent': True, 'by': True, 'un': True, 'retrieve': True, 'cache': True, 'lost': True, 'nazi': True, 'gold': True, 'north': True, 'african': True, 'desert': True, 'chased': True, 'horde': True, 'neo': True, 'sympathizers': True, 'two': True, 'stereotypical': True, 'arabs': True, 'i': True, ':': True, 'no': True, 'political': True, 'correctness': True, 'joined': True, 'three': True, 'women': True, 'little': True, 'do': True, 'scream': True, 'save': True, 'us': True, '!': True, 'misuse': True, 'firearms': True, 'villain': True, 'old': True, 'whose': True, 'legs': True, 'were': True, 'broken': True, 'secret': True, 'base': True, 'so': True, 'has': True, 'be': True, 'carried': True, 'everywhere': True, 'more': True, 'pathetic': True, 'evil': True, 'en': True, 'route': True, 'we': True, 'extended': True, 'scene': True, 'hilarious': True, 'fight': True, 'moroccan': True, 'version': True, 'motel': True, '6': True, 'nazis': True, 'confrontations': True, 'savage': True, 'natives': True, 'once': True, 'at': True, 'there': True, 'long': True, 'chop': True, 'socky': True, 'followed': True, 'film': True, 'centerpiece': True, 'wind': True, 'tunnel': True, 'better': True, 'face': True, '/': True, 'off': True, 'where': True, 'well': True, 'choreographed': True, 'sequences': True, 'giant': True, 'kevlar': True, 'hamster': True, 'balls': True, 'smashed': True, 'crates': True, 'bananas': True, 'scorpions': True, 'ignore': True, 'gaping': True, 'holes': True, 'plot': True, 'exactly': True, 'if': True, 'did': True, 'escape': True, 'from': True, 'didn': True, 'take': True, 'key': True, '?': True, 'don': True, 'production': True, 'values': True, 'what': True, 'japanese': True, 'girl': True, 'doing': True, 'hitchhiking': True, 'sahara': True, 'just': True, 'go': True, 'see': True, 'pretentions': True, 'raiders': True, 'ark': True, 'knockoff': True, 'wonders': True, 'could': True, 'franchise': True, 'blocking': True, 'lawrence': True, 'kazdan': True, 'screenplay': True, 'john': True, 'williams': True, 'score': True, 'spielberg': True, 'directing': True, 'george': True, 'lucas': True, 'producing': True, 'might': True, '+': True, 'however': True, 'something': True, 'talent': True, 'mainstream': True, 'hollywood': True, 'should': True, 'ought': True, 'utilize': True}, 'pos')]\n"
     ]
    }
   ],
   "source": [
    "negfeats = [(dict((w, True) for w in movie_reviews.words(file)), \"neg\") for file in negids]\n",
    "posfeats = [(dict((w, True) for w in movie_reviews.words(file)), \"pos\") for file in posids]\n",
    "print(negfeats[:5])\n",
    "print(posfeats[:5])"
   ]
  },
  {
   "cell_type": "code",
   "execution_count": 18,
   "metadata": {},
   "outputs": [
    {
     "name": "stdout",
     "output_type": "stream",
     "text": [
      "Tamaño del conjunto de entrenamiento: 1500\n",
      "Tamaño del conjunto de test: 500\n"
     ]
    }
   ],
   "source": [
    "negcutoff = int(len(negfeats) * 3/4)\n",
    "poscutoff = int(len(posfeats) * 3/4)\n",
    "trainfeats = negfeats[:negcutoff] + posfeats[:poscutoff]\n",
    "testfeats = negfeats[negcutoff:] + posfeats[poscutoff:]\n",
    "print(f\"Tamaño del conjunto de entrenamiento: {len(trainfeats)}\")\n",
    "print(f\"Tamaño del conjunto de test: {len(testfeats)}\")"
   ]
  },
  {
   "cell_type": "code",
   "execution_count": 19,
   "metadata": {},
   "outputs": [],
   "source": [
    "# Naive Bayes Classifier\n",
    "classifier = NaiveBayesClassifier.train(trainfeats)"
   ]
  },
  {
   "cell_type": "code",
   "execution_count": 20,
   "metadata": {},
   "outputs": [
    {
     "name": "stdout",
     "output_type": "stream",
     "text": [
      "Opinión 1: pos\n",
      "Opinión 2: neg\n",
      "Opinión 3: pos\n"
     ]
    }
   ],
   "source": [
    "# Convertimos las opiniones\n",
    "def preprocess(text):\n",
    "    wt = word_tokenize(text)\n",
    "    return dict((w, True) for w in wt)\n",
    "    \n",
    "\n",
    "print(f\"Opinión 1: {classifier.classify(preprocess(opinion1))}\")\n",
    "print(f\"Opinión 2: {classifier.classify(preprocess(opinion2))}\")\n",
    "print(f\"Opinión 3: {classifier.classify(preprocess(opinion3))}\")"
   ]
  },
  {
   "cell_type": "code",
   "execution_count": 21,
   "metadata": {},
   "outputs": [
    {
     "name": "stdout",
     "output_type": "stream",
     "text": [
      "Accuracy: 0.728\n"
     ]
    }
   ],
   "source": [
    "# Accuracy en conj. de test\n",
    "print(f\"Accuracy: {nltk.classify.accuracy(classifier, testfeats)}\")"
   ]
  },
  {
   "cell_type": "code",
   "execution_count": 22,
   "metadata": {},
   "outputs": [
    {
     "name": "stdout",
     "output_type": "stream",
     "text": [
      "  ==> Training (100 iterations)\n",
      "\n",
      "      Iteration    Log Likelihood    Accuracy\n",
      "      ---------------------------------------\n",
      "             1          -0.69315        0.500\n",
      "             2          -0.69252        0.953\n",
      "             3          -0.69190        0.953\n",
      "             4          -0.69128        0.954\n",
      "             5          -0.69066        0.954\n",
      "             6          -0.69005        0.954\n",
      "             7          -0.68943        0.955\n",
      "             8          -0.68881        0.955\n",
      "             9          -0.68820        0.955\n",
      "            10          -0.68758        0.956\n",
      "            11          -0.68697        0.957\n",
      "            12          -0.68636        0.959\n",
      "            13          -0.68575        0.959\n",
      "            14          -0.68514        0.960\n",
      "            15          -0.68453        0.961\n",
      "            16          -0.68392        0.961\n",
      "            17          -0.68332        0.961\n",
      "            18          -0.68271        0.961\n",
      "            19          -0.68211        0.961\n",
      "            20          -0.68150        0.962\n",
      "            21          -0.68090        0.963\n",
      "            22          -0.68030        0.963\n",
      "            23          -0.67970        0.963\n",
      "            24          -0.67910        0.963\n",
      "            25          -0.67850        0.963\n",
      "            26          -0.67790        0.964\n",
      "            27          -0.67731        0.965\n",
      "            28          -0.67671        0.965\n",
      "            29          -0.67612        0.965\n",
      "            30          -0.67552        0.967\n",
      "            31          -0.67493        0.967\n",
      "            32          -0.67434        0.967\n",
      "            33          -0.67375        0.968\n",
      "            34          -0.67316        0.968\n",
      "            35          -0.67257        0.967\n",
      "            36          -0.67198        0.968\n",
      "            37          -0.67140        0.969\n",
      "            38          -0.67081        0.970\n",
      "            39          -0.67023        0.971\n",
      "            40          -0.66964        0.970\n",
      "            41          -0.66906        0.971\n",
      "            42          -0.66848        0.973\n",
      "            43          -0.66790        0.973\n",
      "            44          -0.66732        0.973\n",
      "            45          -0.66674        0.973\n",
      "            46          -0.66616        0.973\n",
      "            47          -0.66558        0.974\n",
      "            48          -0.66501        0.974\n",
      "            49          -0.66443        0.974\n",
      "            50          -0.66386        0.974\n",
      "            51          -0.66328        0.974\n",
      "            52          -0.66271        0.975\n",
      "            53          -0.66214        0.975\n",
      "            54          -0.66157        0.975\n",
      "            55          -0.66100        0.976\n",
      "            56          -0.66043        0.977\n",
      "            57          -0.65986        0.977\n",
      "            58          -0.65930        0.976\n",
      "            59          -0.65873        0.976\n",
      "            60          -0.65817        0.976\n",
      "            61          -0.65760        0.977\n",
      "            62          -0.65704        0.977\n",
      "            63          -0.65648        0.977\n",
      "            64          -0.65592        0.977\n",
      "            65          -0.65536        0.978\n",
      "            66          -0.65480        0.978\n",
      "            67          -0.65424        0.979\n",
      "            68          -0.65368        0.979\n",
      "            69          -0.65312        0.979\n",
      "            70          -0.65257        0.979\n",
      "            71          -0.65201        0.980\n",
      "            72          -0.65146        0.981\n",
      "            73          -0.65091        0.981\n",
      "            74          -0.65035        0.981\n",
      "            75          -0.64980        0.981\n",
      "            76          -0.64925        0.981\n",
      "            77          -0.64870        0.981\n",
      "            78          -0.64815        0.981\n",
      "            79          -0.64761        0.981\n",
      "            80          -0.64706        0.981\n",
      "            81          -0.64651        0.981\n",
      "            82          -0.64597        0.981\n",
      "            83          -0.64542        0.981\n",
      "            84          -0.64488        0.981\n",
      "            85          -0.64434        0.981\n",
      "            86          -0.64379        0.981\n",
      "            87          -0.64325        0.981\n",
      "            88          -0.64271        0.982\n",
      "            89          -0.64217        0.982\n",
      "            90          -0.64164        0.982\n",
      "            91          -0.64110        0.983\n",
      "            92          -0.64056        0.983\n",
      "            93          -0.64003        0.983\n",
      "            94          -0.63949        0.983\n",
      "            95          -0.63896        0.984\n",
      "            96          -0.63842        0.984\n",
      "            97          -0.63789        0.985\n",
      "            98          -0.63736        0.985\n",
      "            99          -0.63683        0.985\n",
      "         Final          -0.63630        0.985\n"
     ]
    }
   ],
   "source": [
    "# Probamos MaxentClassifier\n",
    "classifier = MaxentClassifier.train(trainfeats, algorithm=\"GIS\")"
   ]
  },
  {
   "cell_type": "code",
   "execution_count": 23,
   "metadata": {},
   "outputs": [
    {
     "name": "stdout",
     "output_type": "stream",
     "text": [
      "Opinión 1: pos\n",
      "Opinión 2: neg\n",
      "Opinión 3: pos\n"
     ]
    }
   ],
   "source": [
    "print(f\"Opinión 1: {classifier.classify(preprocess(opinion1))}\")\n",
    "print(f\"Opinión 2: {classifier.classify(preprocess(opinion2))}\")\n",
    "print(f\"Opinión 3: {classifier.classify(preprocess(opinion3))}\")"
   ]
  },
  {
   "cell_type": "code",
   "execution_count": 24,
   "metadata": {},
   "outputs": [
    {
     "name": "stdout",
     "output_type": "stream",
     "text": [
      "Accuracy: 0.79\n"
     ]
    }
   ],
   "source": [
    "# Accuracy en conj. de test\n",
    "print(f\"Accuracy: {nltk.classify.accuracy(classifier, testfeats)}\")"
   ]
  }
 ],
 "metadata": {
  "kernelspec": {
   "display_name": "pln1",
   "language": "python",
   "name": "python3"
  },
  "language_info": {
   "codemirror_mode": {
    "name": "ipython",
    "version": 3
   },
   "file_extension": ".py",
   "mimetype": "text/x-python",
   "name": "python",
   "nbconvert_exporter": "python",
   "pygments_lexer": "ipython3",
   "version": "3.12.8"
  }
 },
 "nbformat": 4,
 "nbformat_minor": 2
}
