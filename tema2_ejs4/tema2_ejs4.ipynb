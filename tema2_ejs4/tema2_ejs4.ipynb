{
 "cells": [
  {
   "cell_type": "code",
   "execution_count": null,
   "metadata": {},
   "outputs": [],
   "source": [
    "import re\n",
    "import nltk"
   ]
  },
  {
   "cell_type": "markdown",
   "metadata": {},
   "source": [
    "- **Ejercicio 1:** se pide hacer tokenización con ER. Dado un texto, hay que obtener todos los tokens dividiendo el texto separando por espacios en blanco."
   ]
  },
  {
   "cell_type": "code",
   "execution_count": 14,
   "metadata": {},
   "outputs": [
    {
     "name": "stdout",
     "output_type": "stream",
     "text": [
      "['', 'La', 'AEMET', 'lanza', 'una', 'alerta', 'por', 'nieve', 'y', 'una', 'nueva', 'ola', 'de', 'frío,', 'será', 'mejor', 'que', 'nos', 'preparemos', 'para', 'lo', 'peor', 'en', 'cuestión', 'de', 'horas.', 'Habrá', 'llegado', 'el', 'momento', 'de', 'empezar', 'a', 'pensar', 'en', 'lo', 'que', 'está', 'por', 'llegar,', 'por', 'lo', 'que,', 'habrá', 'llegado', 'el', 'momento', 'de', 'prepararnos', 'para', 'los', 'últimos', 'coletazos', 'del', 'invierno', 'y', 'hacerlo', 'de', 'tal', 'manera', 'que', 'tendremos', 'que', 'afrontar', 'una', 'recta', 'final', 'de', 'la', 'semana', 'cargada', 'de', 'acción.', 'Tenemos', 'que', 'empezar', 'a', 'pensar', 'en', 'lo', 'que', 'llegue', 'a', 'toda', 'velocidad.', '']\n"
     ]
    }
   ],
   "source": [
    "text = \"\"\"\n",
    "La AEMET lanza una alerta por nieve y una nueva ola de frío, será\n",
    "mejor que nos preparemos para lo peor en cuestión de horas. Habrá llegado el\n",
    "momento de empezar a pensar en lo que está por llegar, por lo que, habrá llegado el\n",
    "momento de prepararnos para los últimos coletazos del invierno y hacerlo de tal\n",
    "manera que tendremos que afrontar una recta final de la semana cargada de acción.\n",
    "Tenemos que empezar a pensar en lo que llegue a toda velocidad.\n",
    "\"\"\"\n",
    "\n",
    "regex = r\"\\s\"\n",
    "tokenized = re.split(regex, text)\n",
    "print(tokenized)"
   ]
  },
  {
   "cell_type": "markdown",
   "metadata": {},
   "source": [
    "---\n",
    "- **Ejercicio 2:** se pide normalizar un texto a partir del uso de ER. Dado el siguiente texto, hay que normalizarlo haciendo varias tareas:\n",
    "    - Eliminar signos de puntuación.\n",
    "    - Eliminar palabras vacías del texto.\n",
    "    - Eliminar todas las palabras con más de 5 caracteres."
   ]
  },
  {
   "cell_type": "code",
   "execution_count": 16,
   "metadata": {},
   "outputs": [],
   "source": [
    "text = \"\"\"\n",
    "Francia aspira a jugar un papel protagonista en el auge de los\n",
    "algoritmos. Esta semana, París fue el epicentro de una cumbre mundial sobre IA,\n",
    "donde expertos de todo el mundo se adentraron en las amenazas y promesas de esta\n",
    "tecnología. En el marco de este evento, el presidente Emmanuel Macron y el jeque\n",
    "Mohamed bin Zayed Al Nahyan, líder de los Emiratos Árabes Unidos, presenciaron la\n",
    "firma de un acuerdo de cooperación entre sus países, un pacto que promete\n",
    "potenciar el desarrollo de proyectos conjuntos.\n",
    "Como recoge la Agencia de Noticias de los Emiratos, la alianza incluye una inversión\n",
    "por parte de la nación rica en petróleo en Francia, así como “la adquisición de chips\n",
    "de vanguardia, la infraestructura de centros de datos y el desarrollo de talento, y\n",
    "mediante el establecimiento de Embajadas de Datos Virtuales para permitir la IA\n",
    "soberana y la infraestructura en la nube en ambos países”. El Gobierno francés, por\n",
    "su parte, ha señalado que la iniciativa contempla la construcción de un enorme\n",
    "centro de datos.\n",
    "\"\"\""
   ]
  },
  {
   "cell_type": "code",
   "execution_count": 18,
   "metadata": {},
   "outputs": [
    {
     "name": "stdout",
     "output_type": "stream",
     "text": [
      "\n",
      "Francia aspira a jugar un papel protagonista en el auge de los\n",
      "algoritmos Esta semana París fue el epicentro de una cumbre mundial sobre IA\n",
      "donde expertos de todo el mundo se adentraron en las amenazas y promesas de esta\n",
      "tecnología En el marco de este evento el presidente Emmanuel Macron y el jeque\n",
      "Mohamed bin Zayed Al Nahyan líder de los Emiratos Árabes Unidos presenciaron la\n",
      "firma de un acuerdo de cooperación entre sus países un pacto que promete\n",
      "potenciar el desarrollo de proyectos conjuntos\n",
      "Como recoge la Agencia de Noticias de los Emiratos la alianza incluye una inversión\n",
      "por parte de la nación rica en petróleo en Francia así como “la adquisición de chips\n",
      "de vanguardia la infraestructura de centros de datos y el desarrollo de talento y\n",
      "mediante el establecimiento de Embajadas de Datos Virtuales para permitir la IA\n",
      "soberana y la infraestructura en la nube en ambos países” El Gobierno francés por\n",
      "su parte ha señalado que la iniciativa contempla la construcción de un enorme\n",
      "centro de datos\n",
      "\n"
     ]
    }
   ],
   "source": [
    "# Eliminar signos de puntuación\n",
    "regex = r\"[^.,:;]\"\n",
    "normalized_text = re.findall(regex, text)\n",
    "print(\"\".join(normalized_text))"
   ]
  },
  {
   "cell_type": "code",
   "execution_count": null,
   "metadata": {},
   "outputs": [],
   "source": [
    "# Eliminar palabras vacías del texto\n",
    "stopwords_es = nltk.corpus.stopwords.words(\"spanish\")\n",
    "regex = "
   ]
  },
  {
   "cell_type": "markdown",
   "metadata": {},
   "source": [
    "---\n",
    "- **Ejercicio 5:** se tiene que diseñar una expresión regular que haga NER para nombres de personas, es decir, que dado un texto sea capaz de reconocer nombres de personas en él."
   ]
  },
  {
   "cell_type": "code",
   "execution_count": null,
   "metadata": {},
   "outputs": [],
   "source": [
    "text = \"\"\"\n",
    "Un premio cantado, el de Eduard Fernández (mejor actor por\n",
    "Marco), y otro que fue una sorpresa, el de Carolina Yuste por La infiltrada, dejaron la\n",
    "puerta abierta a que pudiese suceder cualquier cosa en la recta final de la noche.\n",
    "Incluso lo mejor que podía pasar sucedió. Subió a recoger el Goya a la mejor dirección\n",
    "Pol Rodríguez, uno de los responsables junto a Isaki Lacuesta de la película mejor\n",
    "dirigida del año: Segundo premio.\n",
    "\"\"\""
   ]
  }
 ],
 "metadata": {
  "kernelspec": {
   "display_name": "pln1",
   "language": "python",
   "name": "python3"
  },
  "language_info": {
   "codemirror_mode": {
    "name": "ipython",
    "version": 3
   },
   "file_extension": ".py",
   "mimetype": "text/x-python",
   "name": "python",
   "nbconvert_exporter": "python",
   "pygments_lexer": "ipython3",
   "version": "3.12.8"
  }
 },
 "nbformat": 4,
 "nbformat_minor": 2
}
