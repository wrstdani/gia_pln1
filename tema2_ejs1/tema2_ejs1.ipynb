{
 "cells": [
  {
   "cell_type": "markdown",
   "metadata": {},
   "source": [
    "# Ejercicios 1 Tema 2 PLN (Análisis textual y recursos lingüísticos)"
   ]
  },
  {
   "cell_type": "code",
   "execution_count": 55,
   "metadata": {},
   "outputs": [
    {
     "name": "stderr",
     "output_type": "stream",
     "text": [
      "[nltk_data] Downloading package punkt to /home/wrst/nltk_data...\n",
      "[nltk_data]   Package punkt is already up-to-date!\n"
     ]
    },
    {
     "data": {
      "text/plain": [
       "True"
      ]
     },
     "execution_count": 55,
     "metadata": {},
     "output_type": "execute_result"
    }
   ],
   "source": [
    "# Importamos las librerías necesarias\n",
    "import nltk\n",
    "from nltk.tokenize import PunktSentenceTokenizer\n",
    "from nltk.tokenize import RegexpTokenizer\n",
    "from nltk.tokenize import word_tokenize\n",
    "nltk.download(\"punkt\")"
   ]
  },
  {
   "cell_type": "markdown",
   "metadata": {},
   "source": [
    "**Ejercicio 1:** Se pide implementar un código en Python para tokenizar un texto en inglés.  \n",
    "- **Punkt:** tokenizador de `nltk`, divide el texto en sentencias por defecto.\n",
    "- Ejemplo de uso de **punkt**:"
   ]
  },
  {
   "cell_type": "code",
   "execution_count": 56,
   "metadata": {},
   "outputs": [
    {
     "name": "stdout",
     "output_type": "stream",
     "text": [
      "Texto tokenizado:\n",
      "['We met Miss.', 'Tanaya Das and Mr.', 'Rohan Singh today.', 'They are pursuing a B.tech degree in Data Science.']\n"
     ]
    }
   ],
   "source": [
    "# Texto de ejemplo\n",
    "text = \"We met Miss. Tanaya Das and Mr. Rohan Singh today. They are pursuing a B.tech degree in Data Science.\"\n",
    "\n",
    "# Inicializamos el tokenizador\n",
    "tokenizer = PunktSentenceTokenizer()\n",
    "\n",
    "# Tokenizamos el texto en sentencias\n",
    "sentences = tokenizer.tokenize(text)\n",
    "print(f\"Texto tokenizado:\\n{sentences}\")"
   ]
  },
  {
   "cell_type": "markdown",
   "metadata": {},
   "source": [
    "- Teniendo un texto en el que haya saltos de línea, cada frase se mostrará tokenizada en una fila distinta:"
   ]
  },
  {
   "cell_type": "code",
   "execution_count": 57,
   "metadata": {},
   "outputs": [
    {
     "name": "stdout",
     "output_type": "stream",
     "text": [
      "['The', 'US', 'Open', 'will', 'become', 'a', '15-day', 'tournament', 'in', '2025', ',', 'beginning', 'on', 'a', 'weekend', 'for', 'the', 'first', 'time', 'in', 'the', 'Open', 'era', '.']\n",
      "['This', 'year', \"'s\", 'main', 'draw', 'at', 'Flushing', 'Meadows', 'will', 'start', 'on', 'Sunday', ',', '24', 'August', 'and', 'end', 'on', 'Sunday', ',', '7', 'September', '.']\n",
      "['It', 'becomes', 'the', 'latest', 'Grand', 'Slam', 'to', 'announce', 'a', 'Sunday', 'start', '.']\n",
      "['The', 'Australian', 'Open', 'expanded', 'to', 'a', '15-day', 'tournament', 'in', '2024', ',', 'after', 'the', 'French', 'Open', 'took', 'that', 'decision', 'in', '2006', '.']\n",
      "['That', 'leaves', 'Wimbledon', 'as', 'the', 'only', 'remaining', 'Slam', 'event', 'to', 'retain', 'the', 'traditional', 'Monday', 'start', '.']\n",
      "['In', 'making', 'the', 'change', ',', 'the', 'US', 'Open', 'said', 'the', 'move', 'would', 'allow', '``', 'more', 'fan', 'access', 'than', 'ever', 'to', 'the', 'main', 'draw', 'following', 'three', 'consecutive', 'years', 'of', 'record-breaking', 'attendance', \"''\", '.']\n",
      "['The', 'tournament', 'estimates', 'the', 'expansion', 'will', 'allow', 'access', 'for', 'an', 'additional', '70,000', 'spectators', '.']\n",
      "['Men', \"'s\", 'and', 'women', \"'s\", 'singles', 'first-round', 'matches', 'will', 'be', 'played', 'across', 'the', 'opening', 'three', 'days', 'in', 'New', 'York', ',', 'from', 'Sunday', 'to', 'Tuesday', '.']\n",
      "['The', 'Australian', 'Open', 'took', 'the', 'decision', 'to', 'become', 'a', '15-day', 'event', 'in', 'an', 'attempt', 'to', 'reduce', 'the', 'number', 'of', 'late-night', 'finishes', 'at', 'Melbourne', 'Park', '.']\n"
     ]
    }
   ],
   "source": [
    "sentence_tokenizer = PunktSentenceTokenizer()\n",
    "\n",
    "# Cargamos el archivo de texto \"texto_ej1.txt\"\n",
    "with open(\"data/texto_ej1.txt\", \"r\") as text:\n",
    "    tokenized_text = sentence_tokenizer.tokenize(text.read())\n",
    "\n",
    "word_tokenized = []\n",
    "for sentence in tokenized_text:\n",
    "    tokenized_sentence = word_tokenize(sentence)\n",
    "    word_tokenized.append(tokenized_sentence)\n",
    "\n",
    "for sentence in word_tokenized:\n",
    "    print(sentence)"
   ]
  },
  {
   "cell_type": "markdown",
   "metadata": {},
   "source": [
    "- **Ejercicio 2:** Hacer lo mismo que en el ejercicio anterior, pero para un texto en español. ¿Hay alguna diferencia a la hora de tokenizar?"
   ]
  },
  {
   "cell_type": "code",
   "execution_count": 58,
   "metadata": {},
   "outputs": [
    {
     "name": "stdout",
     "output_type": "stream",
     "text": [
      "['El', 'perro', 'corrió', 'rápidamente', 'por', 'el', 'parque', '.']\n",
      "['El', 'sol', 'brillaba', 'y', 'los', 'pájaros', 'cantaban', '.']\n",
      "['Los', 'niños', 'jugaban', 'y', 'reían', 'alegremente', '.']\n",
      "['El', 'aire', 'fresco', 'olía', 'a', 'flores', 'y', 'a', 'hierba', '.']\n",
      "['Fue', 'un', 'día', 'perfecto', 'para', 'estar', 'al', 'aire', 'libre', '.']\n"
     ]
    }
   ],
   "source": [
    "sentence_tokenizer = PunktSentenceTokenizer()\n",
    "\n",
    "# Cargamos el archivo de texto \"texto_ej2.txt\"\n",
    "with open(\"data/texto_ej2.txt\", \"r\") as text:\n",
    "    tokenized_text = sentence_tokenizer.tokenize(text.read())\n",
    "\n",
    "word_tokenized = []\n",
    "for sentence in tokenized_text:\n",
    "    tokenized_sentence = word_tokenize(sentence)\n",
    "    word_tokenized.append(tokenized_sentence)\n",
    "\n",
    "for sentence in word_tokenized:\n",
    "    print(sentence)"
   ]
  },
  {
   "cell_type": "markdown",
   "metadata": {},
   "source": [
    "- **Ejercicio 3:** ¿Qué ocurre si se tokeniza utilizando `split` en lugar de `word_tokenize`? Haz pruebas sobre diferentes textos y compara la salida."
   ]
  },
  {
   "cell_type": "code",
   "execution_count": 59,
   "metadata": {},
   "outputs": [
    {
     "name": "stdout",
     "output_type": "stream",
     "text": [
      "['The', 'US', 'Open', 'will', 'become', 'a', '15-day', 'tournament', 'in', '2025,', 'beginning', 'on', 'a', 'weekend', 'for', 'the', 'first', 'time', 'in', 'the', 'Open', 'era.']\n",
      "['This', \"year's\", 'main', 'draw', 'at', 'Flushing', 'Meadows', 'will', 'start', 'on', 'Sunday,', '24', 'August', 'and', 'end', 'on', 'Sunday,', '7', 'September.']\n",
      "['It', 'becomes', 'the', 'latest', 'Grand', 'Slam', 'to', 'announce', 'a', 'Sunday', 'start.', 'The', 'Australian', 'Open', 'expanded', 'to', 'a', '15-day', 'tournament', 'in', '2024,', 'after', 'the', 'French', 'Open', 'took', 'that', 'decision', 'in', '2006.']\n",
      "['That', 'leaves', 'Wimbledon', 'as', 'the', 'only', 'remaining', 'Slam', 'event', 'to', 'retain', 'the', 'traditional', 'Monday', 'start.']\n",
      "['In', 'making', 'the', 'change,', 'the', 'US', 'Open', 'said', 'the', 'move', 'would', 'allow', '\"more', 'fan', 'access', 'than', 'ever', 'to', 'the', 'main', 'draw', 'following', 'three', 'consecutive', 'years', 'of', 'record-breaking', 'attendance\".']\n",
      "['The', 'tournament', 'estimates', 'the', 'expansion', 'will', 'allow', 'access', 'for', 'an', 'additional', '70,000', 'spectators.']\n",
      "[\"Men's\", 'and', \"women's\", 'singles', 'first-round', 'matches', 'will', 'be', 'played', 'across', 'the', 'opening', 'three', 'days', 'in', 'New', 'York,', 'from', 'Sunday', 'to', 'Tuesday.']\n",
      "['The', 'Australian', 'Open', 'took', 'the', 'decision', 'to', 'become', 'a', '15-day', 'event', 'in', 'an', 'attempt', 'to', 'reduce', 'the', 'number', 'of', 'late-night', 'finishes', 'at', 'Melbourne', 'Park.']\n"
     ]
    }
   ],
   "source": [
    "# Prueba 1\n",
    "with open(\"data/texto_ej1.txt\", \"r\") as text:\n",
    "    tokenized_text = []\n",
    "    for line in text:\n",
    "        text_split = line.split()\n",
    "        tokenized_text.append(text_split)\n",
    "\n",
    "for sentence in tokenized_text:\n",
    "    print(sentence)"
   ]
  },
  {
   "cell_type": "markdown",
   "metadata": {},
   "source": [
    "- En esta prueba observamos que se incluyen las puntuaciones (\".\", \",\", etc.) dentro del token correspondiente a la palabra a la que suceden (en lugar de codificarse en un token propio) al utilizar `split`.\n",
    "- Esto se debe a que, por defecto, el método `split` separa la sentencia en palabras de acuerdo a los espacios en blanco (\" \")."
   ]
  },
  {
   "cell_type": "code",
   "execution_count": 60,
   "metadata": {},
   "outputs": [
    {
     "name": "stdout",
     "output_type": "stream",
     "text": [
      "['El', 'perro', 'corrió', 'rápidamente', 'por', 'el', 'parque.']\n",
      "['El', 'sol', 'brillaba', 'y', 'los', 'pájaros', 'cantaban.']\n",
      "['Los', 'niños', 'jugaban', 'y', 'reían', 'alegremente.']\n",
      "['El', 'aire', 'fresco', 'olía', 'a', 'flores', 'y', 'a', 'hierba.']\n",
      "['Fue', 'un', 'día', 'perfecto', 'para', 'estar', 'al', 'aire', 'libre.']\n"
     ]
    }
   ],
   "source": [
    "# Prueba 2\n",
    "with open(\"data/texto_ej2.txt\", \"r\") as text:\n",
    "    tokenized_text = []\n",
    "    for line in text:\n",
    "        text_split = line.split()\n",
    "        tokenized_text.append(text_split)\n",
    "\n",
    "for sentence in tokenized_text:\n",
    "    print(sentence)"
   ]
  },
  {
   "cell_type": "markdown",
   "metadata": {},
   "source": [
    "- Observamos el mismo suceso que en la anterior prueba."
   ]
  },
  {
   "cell_type": "markdown",
   "metadata": {},
   "source": [
    "- **Ejercicio 4:** Dado un fichero con contenido en inglés (\"Data_Science.txt\") se quieren eliminar todos los signos de puntuación que aparezcan en el mismo."
   ]
  }
 ],
 "metadata": {
  "kernelspec": {
   "display_name": "pln1",
   "language": "python",
   "name": "python3"
  },
  "language_info": {
   "codemirror_mode": {
    "name": "ipython",
    "version": 3
   },
   "file_extension": ".py",
   "mimetype": "text/x-python",
   "name": "python",
   "nbconvert_exporter": "python",
   "pygments_lexer": "ipython3",
   "version": "3.12.8"
  }
 },
 "nbformat": 4,
 "nbformat_minor": 2
}
