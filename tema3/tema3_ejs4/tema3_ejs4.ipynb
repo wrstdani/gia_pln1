{
 "cells": [
  {
   "cell_type": "markdown",
   "metadata": {},
   "source": [
    "# Importación de librerías"
   ]
  },
  {
   "cell_type": "code",
   "execution_count": 1,
   "metadata": {},
   "outputs": [],
   "source": [
    "import numpy as np\n",
    "import matplotlib.pyplot as plt\n",
    "import gensim.downloader as gensim_api\n",
    "from gensim.models.fasttext import load_facebook_model\n",
    "import nltk\n",
    "from nltk.tokenize import regexp_tokenize\n",
    "from sklearn.decomposition import PCA\n",
    "from sklearn.metrics.pairwise import cosine_similarity\n",
    "from sklearn.feature_extraction.text import CountVectorizer\n",
    "from sklearn.feature_extraction.text import TfidfVectorizer\n",
    "\n",
    "english_sw = set(nltk.corpus.stopwords.words(\"english\"))"
   ]
  },
  {
   "cell_type": "code",
   "execution_count": 2,
   "metadata": {},
   "outputs": [
    {
     "data": {
      "text/plain": [
       "dict_keys(['fasttext-wiki-news-subwords-300', 'conceptnet-numberbatch-17-06-300', 'word2vec-ruscorpora-300', 'word2vec-google-news-300', 'glove-wiki-gigaword-50', 'glove-wiki-gigaword-100', 'glove-wiki-gigaword-200', 'glove-wiki-gigaword-300', 'glove-twitter-25', 'glove-twitter-50', 'glove-twitter-100', 'glove-twitter-200', '__testing_word2vec-matrix-synopsis'])"
      ]
     },
     "execution_count": 2,
     "metadata": {},
     "output_type": "execute_result"
    }
   ],
   "source": [
    "gensim_api.info()[\"models\"].keys()"
   ]
  },
  {
   "cell_type": "markdown",
   "metadata": {},
   "source": [
    "# Ejercicio 1\n",
    "- Los modelos basados en embeddings estáticos proporcionan una representación\n",
    "vectorial de palabras en un espacio continuo de dimensiones fijas, donde cada palabra\n",
    "tiene un único vector asociado independientemente del contexto en el que aparezca.\n",
    "Estos modelos son capaces de capturar la semántica de las palabras a partir de su\n",
    "entrenamiento no supervisado sobre grandes corpus de texto.  \n",
    "\n",
    "    Word2Vec es uno de los modelos que aprende estas representaciones vectoriales\n",
    "    mediante el entrenamiento sobre ventanas de contexto. En concreto, emplea la técnica\n",
    "    Skip-gram, que predice palabras de contexto a partir de una palabra objetivo, o CBOW,\n",
    "    que predice la palabra objetivo a partir de su contexto.  \n",
    "\n",
    "    Por otro lado, GloVe es otro de los modelos para la generación de embeddings estáticos,\n",
    "    basándose para ello en el análisis de coocurrencias de palabras. Específicamente, GloVe\n",
    "    basa su entrenamiento en la construcción de una matriz de coocurrencia de palabras,\n",
    "    factorizándola para la obtención de representaciones vectoriales.  \n",
    "\n",
    "    Asimismo, otro modelo relevante para la generación de estos embeddings es FastText.\n",
    "    A diferencia de Word2Vec y Glove, FastText no trabaja con palabras individuales, sino\n",
    "    que lo hace a nivel de subpalabra o n-gramas de carácteres. Esta representación permite\n",
    "    una mayor robustez ante palabras infrecuentes o con errores tipográficos, solucionando\n",
    "    el famoso problema de palabras fuera del vocabulario (OOV por sus siglas en inglés).  \n",
    "\n",
    "    En este ejercicio, se desea explorar el uso de los modelos de embeddings estáticos de\n",
    "    palabras Word2Vec, GloVe y FastText para el análisis de relaciones semánticas. Una\n",
    "    propiedad interesante de estos modelos es su capacidad para capturar relaciones\n",
    "    semánticamente analógicas, como las presentes en la famosa ecuación:  \n",
    "    $$\n",
    "    \\text{king} - \\text{man} + \\text{woman} = \\text{queen}\n",
    "    $$"
   ]
  },
  {
   "cell_type": "markdown",
   "metadata": {},
   "source": [
    "---\n",
    "## Cargar modelos"
   ]
  },
  {
   "cell_type": "code",
   "execution_count": 5,
   "metadata": {},
   "outputs": [],
   "source": [
    "# Cargamos los modelos preentrenados \"word2vecgoogle-news-300\" y\n",
    "# \"glove-wiki-gigaword-300\" de gensim\n",
    "word2vec_google = gensim_api.load(\"word2vec-google-news-300\")\n",
    "glove_wiki = gensim_api.load(\"glove-wiki-gigaword-300\")\n",
    "\n",
    "# Cargamos el modelo FastText wiki.simple\n",
    "ft = load_facebook_model(\"models/wiki.simple.bin\").wv"
   ]
  },
  {
   "cell_type": "markdown",
   "metadata": {},
   "source": [
    "---\n",
    "## Obtener palabra que mejor completa la ecuación\n",
    "$$\n",
    "\\text{king} - \\text{man} + \\text{woman} = \\text{queen}\n",
    "$$"
   ]
  },
  {
   "cell_type": "code",
   "execution_count": 7,
   "metadata": {},
   "outputs": [
    {
     "name": "stdout",
     "output_type": "stream",
     "text": [
      "- Palabra que mejor completa la ecuación:\n",
      "    - Utilizando Word2Vec: [('queen', 0.7118192911148071)]\n",
      "    - Utilizando GloVe: [('queen', 0.6713277101516724)]\n",
      "    - Utilizando FastText: [('queen', 0.5129120349884033)]\n"
     ]
    }
   ],
   "source": [
    "positive = [\"king\", \"woman\"]\n",
    "negative = [\"man\"]\n",
    "most_similar_word2vec = word2vec_google.most_similar(positive=positive, negative=negative, topn=1)\n",
    "most_similar_glove = glove_wiki.most_similar(positive=positive, negative=negative, topn=1)\n",
    "most_similar_ft = ft.most_similar(positive=positive, negative=negative, topn=1)\n",
    "print(\"- Palabra que mejor completa la ecuación:\")\n",
    "print(f\"    - Utilizando Word2Vec: {most_similar_word2vec}\")\n",
    "print(f\"    - Utilizando GloVe: {most_similar_glove}\")\n",
    "print(f\"    - Utilizando FastText: {most_similar_ft}\")"
   ]
  },
  {
   "cell_type": "markdown",
   "metadata": {},
   "source": [
    "---\n",
    "# Ejercicio 2\n",
    "- Tanto Word2Vec como GloVe y FastText proporcionan embedding estáticos a nivel de palabra. Dada una lista de palabras, podemos obtener una matriz de embeddings, donde las filas son las palabras que componen la lista y las columnas son el número de dimensiones que tienen los embeddings.  \n",
    "\n",
    "    - Con Word2Vec, GloVe y FastText, obtén la matriz de embeddings del conjunto de palabras [\"apple\", \"orange\", \"banana\"]. ¿Qué dimensiones tienen? ¿Qué características tienen dichas matrices (dispersa vs densa, números enteros vs flotantes, …)?\n",
    "    - Con Word2Vec, GloVe y FastText, intenta obtener el embedding de la palabra \"orangge\". ¿Qué modelos permiten obtenerlo? ¿Cuáles no? ¿A qué se debe?"
   ]
  },
  {
   "cell_type": "code",
   "execution_count": 9,
   "metadata": {},
   "outputs": [
    {
     "name": "stdout",
     "output_type": "stream",
     "text": [
      "- Matrices de embeddings:\n",
      "    - Utilizando Word2Vec:\n",
      "        Shape: (3, 300)\n",
      "    - Utilizando GloVe:\n",
      "        Shape: (3, 300)\n",
      "    - Utilizando FastText:\n",
      "        Shape: (3, 300)\n"
     ]
    }
   ],
   "source": [
    "words = [\"apple\", \"orange\", \"banana\"]\n",
    "# Función para obtener matriz de embeddings\n",
    "def get_embeddings_matrix(model, words: list[str]):\n",
    "    return np.array([model[w] for w in words if w in words])\n",
    "\n",
    "embeddings_matrix_word2vec = get_embeddings_matrix(word2vec_google, words)\n",
    "embeddings_matrix_glove = get_embeddings_matrix(glove_wiki, words)\n",
    "embeddings_matrix_ft = get_embeddings_matrix(ft, words)\n",
    "print(\"- Matrices de embeddings:\")\n",
    "print(\"    - Utilizando Word2Vec:\")\n",
    "print(f\"        Shape: {embeddings_matrix_word2vec.shape}\")\n",
    "print(\"    - Utilizando GloVe:\")\n",
    "print(f\"        Shape: {embeddings_matrix_glove.shape}\")\n",
    "print(\"    - Utilizando FastText:\")\n",
    "print(f\"        Shape: {embeddings_matrix_ft.shape}\")"
   ]
  },
  {
   "cell_type": "code",
   "execution_count": 10,
   "metadata": {},
   "outputs": [
    {
     "name": "stdout",
     "output_type": "stream",
     "text": [
      "- Embedding de la palabra orangge:\n",
      "    - Utilizando Word2Vec:\n",
      "        None\n",
      "    - Utilizando GloVe:\n",
      "        None\n",
      "    - Utilizando FastText:\n",
      "        [ 0.0848861  -0.24361728 -0.15665574 -0.27772892  0.12597975  0.34166035\n",
      " -0.53036046  0.07849488  0.06062262  0.03702094  0.16619357  0.10360388\n",
      "  0.2446159   0.10989391 -0.01875357 -0.02365377  0.06570328  0.07611778\n",
      " -0.07399978  0.21350299  0.4389209   0.31556138  0.13780461 -0.29011443\n",
      " -0.05177888 -0.3906618   0.37533027 -0.35044304 -0.20348176  0.07665174\n",
      " -0.06626198  0.34911892 -0.18718702  0.02643492  0.1676504  -0.1799791\n",
      " -0.299075   -0.02373791  0.02268481  0.258172    0.34293818 -0.13190585\n",
      "  0.33591038 -0.15249175  0.34161243 -0.14774841  0.05844269  0.35795975\n",
      "  0.33847216 -0.05780444 -0.05892941  0.35299194 -0.25106996 -0.17131838\n",
      " -0.34667447 -0.06260791  0.62043476  0.09112868 -0.20632559 -0.25576127\n",
      " -0.11012209  0.43092152  0.3778122   0.06350358 -0.21306604  0.3386955\n",
      " -0.20319079  0.04267971 -0.08564284  0.2043439  -0.44216302 -0.0791585\n",
      " -0.1766298  -0.03387114  0.23403588 -0.28164643 -0.20708746  0.24938951\n",
      " -0.14856519 -0.18125516 -0.1563427  -0.10719423  0.17520985 -0.11284507\n",
      "  0.00814045  0.06081295  0.12892002 -0.21800464 -0.00168499 -0.55780256\n",
      "  0.3268619  -0.31902325 -0.27485502  0.00082815  0.2079429   0.04229366\n",
      "  0.12606417  0.25418958  0.46669528  0.08873482 -0.336333    0.02345437\n",
      "  0.32176995  0.38420966 -0.02002083  0.21805884  0.05745395 -0.09918498\n",
      "  0.19309019 -0.07431857 -0.19421467 -0.2423622   0.25538304  0.04584327\n",
      " -0.56594753 -0.25902522 -0.30916792  0.40960228 -0.41452086 -0.04076901\n",
      "  0.10065624 -0.33813336 -0.16589493 -0.30788824 -0.43823102 -0.1491159\n",
      "  0.1835503   0.0689111   0.12835135  0.04754167 -0.3444954  -0.39731333\n",
      "  0.10845269  0.08885868  0.10229962  0.46475697  0.16427393 -0.17597939\n",
      "  0.00234927  0.15930124 -0.4279239   0.14815697  0.27588633 -0.1820922\n",
      "  0.09502285 -0.08568021  0.01450117  0.42014745  0.17658246 -0.00086358\n",
      "  0.01541837  0.32799834  0.2993093   0.0228264   0.44188643  0.0941629\n",
      " -0.00354625  0.19764501  0.2493342   0.20401269 -0.2967521   0.14398712\n",
      "  0.15307844  0.13568027 -0.24258433  0.10934941 -0.19116558  0.12527986\n",
      "  0.06900135  0.06550357  0.26327154  0.24427333 -0.2221093   0.04783842\n",
      "  0.01975202 -0.07049513 -0.15647571 -0.27483603 -0.14388323 -0.36706674\n",
      "  0.08644893  0.18907042 -0.08371282 -0.22662574 -0.16010575 -0.15360078\n",
      " -0.0932992  -0.13434492  0.17574324 -0.2890485   0.22646037 -0.13567422\n",
      "  0.14091413  0.08730865 -0.3357015  -0.15906526 -0.5853683   0.4567927\n",
      " -0.34045753 -0.30840194  0.47254688  0.03684274  0.13764472  0.14230858\n",
      "  0.30399704 -0.1501149   0.40337372 -0.25869226  0.12672229  0.2794881\n",
      " -0.5401439  -0.15650216  0.05972522 -0.12216771  0.04266746 -0.26715383\n",
      "  0.20142192  0.12528755 -0.14019519  0.2473395   0.04018706 -0.04248107\n",
      " -0.27680123  0.08035388 -0.231538    0.2264716   0.13745855 -0.3108092\n",
      "  0.02832753  0.355127    0.02120323  0.03300509 -0.07762375  0.21647452\n",
      " -0.06727691 -0.21828976  0.03125361  0.03570308  0.07334887 -0.18869323\n",
      "  0.28960225 -0.14732543  0.24974813  0.06654427  0.22283362  0.18707319\n",
      "  0.01755631 -0.00964637 -0.30581355 -0.21807359 -0.00684739 -0.09727764\n",
      " -0.17745742 -0.09491491 -0.25751513 -0.161049   -0.17445727  0.21452308\n",
      "  0.13480248 -0.20513755 -0.03298451  0.29529732 -0.2628109   0.3726749\n",
      " -0.29567948  0.19440056  0.0384215  -0.12814495  0.06428237 -0.5086591\n",
      " -0.4747864  -0.27595899  0.09992712  0.0808849   0.20357613 -0.2643608\n",
      "  0.2477495   0.05320688  0.12690645 -0.21502887  0.14705835  0.20341735\n",
      " -0.3047147  -0.14434518  0.17045939  0.15741794 -0.14276241  0.12463354\n",
      " -0.5554996   0.07125122  0.07401709 -0.10065743  0.09341976 -0.06801724\n",
      "  0.2455955  -0.08516844 -0.46333018 -0.18118475 -0.21642455  0.282674  ]\n"
     ]
    }
   ],
   "source": [
    "# Función para obtener el embedding de una palabra\n",
    "def get_embedding(model, word: str):\n",
    "    if word in model:\n",
    "        return model[word]\n",
    "    else:\n",
    "        return None\n",
    "\n",
    "word = \"orangge\"\n",
    "word_embedding_word2vec = get_embedding(word2vec_google, word)\n",
    "word_embedding_glove = get_embedding(glove_wiki, word)\n",
    "word_embedding_ft = get_embedding(ft, word)\n",
    "\n",
    "print(f\"- Embedding de la palabra {word}:\")\n",
    "print(\"    - Utilizando Word2Vec:\")\n",
    "print(f\"        {word_embedding_word2vec}\")\n",
    "print(\"    - Utilizando GloVe:\")\n",
    "print(f\"        {word_embedding_glove}\")\n",
    "print(\"    - Utilizando FastText:\")\n",
    "print(f\"        {word_embedding_ft}\")"
   ]
  },
  {
   "cell_type": "markdown",
   "metadata": {},
   "source": [
    "---\n",
    "# Ejercicio 3\n",
    "- A través del algoritmo de reducción de dimensionalidad PCA se puede visualizar gráficamente el espacio de embeddings representado por estos modelos. A continuación, se muestra un código de ejemplo que permite visualizar un conjunto de palabras words dados sus correspondientes embeddings."
   ]
  },
  {
   "cell_type": "code",
   "execution_count": 12,
   "metadata": {},
   "outputs": [],
   "source": [
    "words = [\"woman\", \"king\", \"man\", \"queen\", \"potato\", \"carrot\", \"tomato\"]\n",
    "\n",
    "# Obtener los embeddings de cada palabra\n",
    "embeddings_word2vec = [get_embedding(word2vec_google, w) for w in words]\n",
    "embeddings_glove = [get_embedding(glove_wiki, w) for w in words]\n",
    "embeddings_ft = [get_embedding(ft, w) for w in words]"
   ]
  },
  {
   "cell_type": "code",
   "execution_count": 13,
   "metadata": {},
   "outputs": [],
   "source": [
    "# Función para visualizar los embeddings con Matplotlib\n",
    "def visualize_embeddings(words: list[str], word_vectors_2D: np.ndarray):\n",
    "    plt.figure(figsize=(8, 6))\n",
    "    for word, coord in zip(words, word_vectors_2D):\n",
    "        plt.scatter(coord[0], coord[1], marker='o', label=word)\n",
    "        plt.text(coord[0], coord[1], word, fontsize=12)\n",
    "    plt.grid()\n",
    "    plt.show()"
   ]
  },
  {
   "cell_type": "code",
   "execution_count": 14,
   "metadata": {},
   "outputs": [
    {
     "data": {
      "image/png": "[encoded data removed]",
      "text/plain": [
       "<Figure size 800x600 with 1 Axes>"
      ]
     },
     "metadata": {},
     "output_type": "display_data"
    }
   ],
   "source": [
    "# Utilizando Word2Vec\n",
    "pca = PCA(n_components=2)\n",
    "word_vectors_2D_word2vec = pca.fit_transform(embeddings_word2vec)\n",
    "visualize_embeddings(words, word_vectors_2D_word2vec)"
   ]
  },
  {
   "cell_type": "code",
   "execution_count": 15,
   "metadata": {},
   "outputs": [
    {
     "data": {
      "image/png": "[encoded data removed]",
      "text/plain": [
       "<Figure size 800x600 with 1 Axes>"
      ]
     },
     "metadata": {},
     "output_type": "display_data"
    }
   ],
   "source": [
    "# Utilizando GloVe\n",
    "pca = PCA(n_components=2)\n",
    "word_vectors_2D_glove = pca.fit_transform(embeddings_glove)\n",
    "visualize_embeddings(words, word_vectors_2D_glove)"
   ]
  },
  {
   "cell_type": "code",
   "execution_count": 16,
   "metadata": {},
   "outputs": [
    {
     "data": {
      "image/png": "[encoded data removed]",
      "text/plain": [
       "<Figure size 800x600 with 1 Axes>"
      ]
     },
     "metadata": {},
     "output_type": "display_data"
    }
   ],
   "source": [
    "# Utilizando FastText\n",
    "pca = PCA(n_components=2)\n",
    "word_vectors_2D_ft = pca.fit_transform(embeddings_ft)\n",
    "visualize_embeddings(words, word_vectors_2D_ft)"
   ]
  },
  {
   "cell_type": "markdown",
   "metadata": {},
   "source": [
    "---\n",
    "# Ejercicio 4\n",
    "- Aunque Word2Vec, GloVe y FastText proporcionan embeddings estáticos a nivel de palabra, existen diferentes técnicas para obtener embeddings a nivel de frase. Una de las formas más populares consiste en calcular la media de embeddings de los diferentes tokens que componen una frase. Otra estrategia también frecuente consiste en quedarse con el máximo de cada dimensión, resaltando las características más sobresalientes de cada token analizado. Dada la frase de consulta \"Dogs are domestic animals.\" y el conjunto de frases [\"Dogs are pets.\", \"This is a dog.\", \"They are free today.\"]\n",
    "    - Tokeniza las anteriores frases y elimina stopwords y puntuación.\n",
    "    - Con Word2Vec, GloVe y FastText, obtén el vector promedio y el vector máximo de la frase de consulta y el conjunto de frases.\n",
    "    - Con Word2Vec, GloVe y FastText, obtén el vector de media ponderada por IDF. Para ello, construye un diccionario de (palabras, su valor de idf).\n",
    "    - Calcula la similitud coseno entre la frase de consulta y cada frase del conjunto de frases usando los anteriores vectores. Reflexiona sobre qué frases son consideradas más similares por estos modelos y qué vectores funcionan mejor (media, máximo, o media ponderada por IDF)."
   ]
  },
  {
   "cell_type": "markdown",
   "metadata": {},
   "source": [
    "## Pre-procesamiento del texto\n",
    "- Tokenizamos la frase de consulta y el conjunto de sentencias.\n",
    "- Eliminamos la puntuación y las *stopwords*.\n",
    "- Obtenemos las representaciones vectoriales de las palabras de cada sentencia (tanto la sentencia de consulta como las del conjunto) utilizando **Word2Vec**, **GloVe** y **FastText**."
   ]
  },
  {
   "cell_type": "code",
   "execution_count": 19,
   "metadata": {},
   "outputs": [
    {
     "name": "stdout",
     "output_type": "stream",
     "text": [
      "- Sentencia de consulta tokenizada:\n",
      "['dogs', 'domestic', 'animals']\n",
      "- Sentencias tokenizadas:\n",
      "[['dogs', 'pets'], ['dog'], ['free', 'today']]\n"
     ]
    }
   ],
   "source": [
    "request_sent = \"Dogs are domestic animals.\"\n",
    "sents = [\n",
    "    \"Dogs are pets.\",\n",
    "    \"This is a dog.\",\n",
    "    \"They are free today.\"\n",
    "]\n",
    "\n",
    "# Tokenizamos las frases\n",
    "word_tokenized_request = regexp_tokenize(request_sent, r\"[a-zA-Z0-9]+\")\n",
    "word_tokenized_request = [w.lower() for w in word_tokenized_request if w.lower() not in english_sw]\n",
    "word_tokenized_sents = [regexp_tokenize(s, r\"[a-zA-Z0-9]+\") for s in sents]\n",
    "word_tokenized_sents = [[w.lower() for w in sent if w.lower() not in english_sw] for sent in word_tokenized_sents]\n",
    "\n",
    "# Obtenemos los vectores de cada palabra\n",
    "vectors_request_word2vec = [word2vec_google[w] for w in word_tokenized_request]\n",
    "vectors_sents_word2vec = [[word2vec_google[w] for w in s] for s in word_tokenized_sents]\n",
    "vectors_request_glove = [glove_wiki[w] for w in word_tokenized_request]\n",
    "vectors_sents_glove = [[glove_wiki[w] for w in s] for s in word_tokenized_sents]\n",
    "vectors_request_ft = [ft[w] for w in word_tokenized_request]\n",
    "vectors_sents_ft = [[ft[w] for w in s] for s in word_tokenized_sents]\n",
    "\n",
    "print(\"- Sentencia de consulta tokenizada:\")\n",
    "print(word_tokenized_request)\n",
    "print(\"- Sentencias tokenizadas:\")\n",
    "print(word_tokenized_sents)"
   ]
  },
  {
   "cell_type": "markdown",
   "metadata": {},
   "source": [
    "## Vectores promedios y máximo\n",
    "- Obtenemos los vectores **promedios** (`np.mean()`) y **máximos** (`np.max()`)."
   ]
  },
  {
   "cell_type": "code",
   "execution_count": 21,
   "metadata": {},
   "outputs": [],
   "source": [
    "# Vectores promedios y máximos con Word2Vec\n",
    "avg_req_word2vec = np.mean(vectors_request_word2vec, axis=0)\n",
    "avg_sents_word2vec = np.mean([np.mean(s, axis=0) for s in vectors_sents_word2vec], axis=0)\n",
    "max_req_word2vec = np.max(vectors_request_word2vec, axis=0)\n",
    "max_sents_word2vec = np.max([np.max(s, axis=0) for s in vectors_sents_word2vec], axis=0)\n",
    "# Vectores promedios y máximos con GloVe\n",
    "avg_req_glove = np.mean(vectors_request_glove, axis=0)\n",
    "avg_sents_glove = np.mean([np.mean(s, axis=0) for s in vectors_sents_glove], axis=0)\n",
    "max_req_glove = np.max(vectors_request_glove, axis=0)\n",
    "max_sents_glove = np.max([np.max(s, axis=0) for s in vectors_sents_glove], axis=0)\n",
    "# Vectores promedios y máximos con FastText\n",
    "avg_req_ft = np.mean(vectors_request_ft, axis=0)\n",
    "avg_sents_ft = np.mean([np.mean(s, axis=0) for s in vectors_sents_ft], axis=0)\n",
    "max_req_ft = np.max(vectors_request_ft, axis=0)\n",
    "max_sents_ft = np.max([np.max(s, axis=0) for s in vectors_sents_ft], axis=0)"
   ]
  },
  {
   "cell_type": "markdown",
   "metadata": {},
   "source": [
    "## Vectores promedios ponderados por IDF"
   ]
  },
  {
   "cell_type": "code",
   "execution_count": 25,
   "metadata": {},
   "outputs": [
    {
     "ename": "AttributeError",
     "evalue": "'numpy.ndarray' object has no attribute 'lower'",
     "output_type": "error",
     "traceback": [
      "\u001b[31m---------------------------------------------------------------------------\u001b[39m",
      "\u001b[31mAttributeError\u001b[39m                            Traceback (most recent call last)",
      "\u001b[36mCell\u001b[39m\u001b[36m \u001b[39m\u001b[32mIn[25]\u001b[39m\u001b[32m, line 4\u001b[39m\n\u001b[32m      2\u001b[39m vectorizer_req = TfidfVectorizer()\n\u001b[32m      3\u001b[39m vectorizer_sents = TfidfVectorizer()\n\u001b[32m----> \u001b[39m\u001b[32m4\u001b[39m \u001b[43mvectorizer_req\u001b[49m\u001b[43m.\u001b[49m\u001b[43mfit\u001b[49m\u001b[43m(\u001b[49m\u001b[43mvectors_request_word2vec\u001b[49m\u001b[43m)\u001b[49m\n",
      "\u001b[36mFile \u001b[39m\u001b[32m/opt/anaconda3/envs/pln1/lib/python3.12/site-packages/sklearn/base.py:1389\u001b[39m, in \u001b[36m_fit_context.<locals>.decorator.<locals>.wrapper\u001b[39m\u001b[34m(estimator, *args, **kwargs)\u001b[39m\n\u001b[32m   1382\u001b[39m     estimator._validate_params()\n\u001b[32m   1384\u001b[39m \u001b[38;5;28;01mwith\u001b[39;00m config_context(\n\u001b[32m   1385\u001b[39m     skip_parameter_validation=(\n\u001b[32m   1386\u001b[39m         prefer_skip_nested_validation \u001b[38;5;129;01mor\u001b[39;00m global_skip_validation\n\u001b[32m   1387\u001b[39m     )\n\u001b[32m   1388\u001b[39m ):\n\u001b[32m-> \u001b[39m\u001b[32m1389\u001b[39m     \u001b[38;5;28;01mreturn\u001b[39;00m \u001b[43mfit_method\u001b[49m\u001b[43m(\u001b[49m\u001b[43mestimator\u001b[49m\u001b[43m,\u001b[49m\u001b[43m \u001b[49m\u001b[43m*\u001b[49m\u001b[43margs\u001b[49m\u001b[43m,\u001b[49m\u001b[43m \u001b[49m\u001b[43m*\u001b[49m\u001b[43m*\u001b[49m\u001b[43mkwargs\u001b[49m\u001b[43m)\u001b[49m\n",
      "\u001b[36mFile \u001b[39m\u001b[32m/opt/anaconda3/envs/pln1/lib/python3.12/site-packages/sklearn/feature_extraction/text.py:2074\u001b[39m, in \u001b[36mTfidfVectorizer.fit\u001b[39m\u001b[34m(self, raw_documents, y)\u001b[39m\n\u001b[32m   2067\u001b[39m \u001b[38;5;28mself\u001b[39m._warn_for_unused_params()\n\u001b[32m   2068\u001b[39m \u001b[38;5;28mself\u001b[39m._tfidf = TfidfTransformer(\n\u001b[32m   2069\u001b[39m     norm=\u001b[38;5;28mself\u001b[39m.norm,\n\u001b[32m   2070\u001b[39m     use_idf=\u001b[38;5;28mself\u001b[39m.use_idf,\n\u001b[32m   2071\u001b[39m     smooth_idf=\u001b[38;5;28mself\u001b[39m.smooth_idf,\n\u001b[32m   2072\u001b[39m     sublinear_tf=\u001b[38;5;28mself\u001b[39m.sublinear_tf,\n\u001b[32m   2073\u001b[39m )\n\u001b[32m-> \u001b[39m\u001b[32m2074\u001b[39m X = \u001b[38;5;28;43msuper\u001b[39;49m\u001b[43m(\u001b[49m\u001b[43m)\u001b[49m\u001b[43m.\u001b[49m\u001b[43mfit_transform\u001b[49m\u001b[43m(\u001b[49m\u001b[43mraw_documents\u001b[49m\u001b[43m)\u001b[49m\n\u001b[32m   2075\u001b[39m \u001b[38;5;28mself\u001b[39m._tfidf.fit(X)\n\u001b[32m   2076\u001b[39m \u001b[38;5;28;01mreturn\u001b[39;00m \u001b[38;5;28mself\u001b[39m\n",
      "\u001b[36mFile \u001b[39m\u001b[32m/opt/anaconda3/envs/pln1/lib/python3.12/site-packages/sklearn/base.py:1389\u001b[39m, in \u001b[36m_fit_context.<locals>.decorator.<locals>.wrapper\u001b[39m\u001b[34m(estimator, *args, **kwargs)\u001b[39m\n\u001b[32m   1382\u001b[39m     estimator._validate_params()\n\u001b[32m   1384\u001b[39m \u001b[38;5;28;01mwith\u001b[39;00m config_context(\n\u001b[32m   1385\u001b[39m     skip_parameter_validation=(\n\u001b[32m   1386\u001b[39m         prefer_skip_nested_validation \u001b[38;5;129;01mor\u001b[39;00m global_skip_validation\n\u001b[32m   1387\u001b[39m     )\n\u001b[32m   1388\u001b[39m ):\n\u001b[32m-> \u001b[39m\u001b[32m1389\u001b[39m     \u001b[38;5;28;01mreturn\u001b[39;00m \u001b[43mfit_method\u001b[49m\u001b[43m(\u001b[49m\u001b[43mestimator\u001b[49m\u001b[43m,\u001b[49m\u001b[43m \u001b[49m\u001b[43m*\u001b[49m\u001b[43margs\u001b[49m\u001b[43m,\u001b[49m\u001b[43m \u001b[49m\u001b[43m*\u001b[49m\u001b[43m*\u001b[49m\u001b[43mkwargs\u001b[49m\u001b[43m)\u001b[49m\n",
      "\u001b[36mFile \u001b[39m\u001b[32m/opt/anaconda3/envs/pln1/lib/python3.12/site-packages/sklearn/feature_extraction/text.py:1376\u001b[39m, in \u001b[36mCountVectorizer.fit_transform\u001b[39m\u001b[34m(self, raw_documents, y)\u001b[39m\n\u001b[32m   1368\u001b[39m             warnings.warn(\n\u001b[32m   1369\u001b[39m                 \u001b[33m\"\u001b[39m\u001b[33mUpper case characters found in\u001b[39m\u001b[33m\"\u001b[39m\n\u001b[32m   1370\u001b[39m                 \u001b[33m\"\u001b[39m\u001b[33m vocabulary while \u001b[39m\u001b[33m'\u001b[39m\u001b[33mlowercase\u001b[39m\u001b[33m'\u001b[39m\u001b[33m\"\u001b[39m\n\u001b[32m   1371\u001b[39m                 \u001b[33m\"\u001b[39m\u001b[33m is True. These entries will not\u001b[39m\u001b[33m\"\u001b[39m\n\u001b[32m   1372\u001b[39m                 \u001b[33m\"\u001b[39m\u001b[33m be matched with any documents\u001b[39m\u001b[33m\"\u001b[39m\n\u001b[32m   1373\u001b[39m             )\n\u001b[32m   1374\u001b[39m             \u001b[38;5;28;01mbreak\u001b[39;00m\n\u001b[32m-> \u001b[39m\u001b[32m1376\u001b[39m vocabulary, X = \u001b[38;5;28;43mself\u001b[39;49m\u001b[43m.\u001b[49m\u001b[43m_count_vocab\u001b[49m\u001b[43m(\u001b[49m\u001b[43mraw_documents\u001b[49m\u001b[43m,\u001b[49m\u001b[43m \u001b[49m\u001b[38;5;28;43mself\u001b[39;49m\u001b[43m.\u001b[49m\u001b[43mfixed_vocabulary_\u001b[49m\u001b[43m)\u001b[49m\n\u001b[32m   1378\u001b[39m \u001b[38;5;28;01mif\u001b[39;00m \u001b[38;5;28mself\u001b[39m.binary:\n\u001b[32m   1379\u001b[39m     X.data.fill(\u001b[32m1\u001b[39m)\n",
      "\u001b[36mFile \u001b[39m\u001b[32m/opt/anaconda3/envs/pln1/lib/python3.12/site-packages/sklearn/feature_extraction/text.py:1263\u001b[39m, in \u001b[36mCountVectorizer._count_vocab\u001b[39m\u001b[34m(self, raw_documents, fixed_vocab)\u001b[39m\n\u001b[32m   1261\u001b[39m \u001b[38;5;28;01mfor\u001b[39;00m doc \u001b[38;5;129;01min\u001b[39;00m raw_documents:\n\u001b[32m   1262\u001b[39m     feature_counter = {}\n\u001b[32m-> \u001b[39m\u001b[32m1263\u001b[39m     \u001b[38;5;28;01mfor\u001b[39;00m feature \u001b[38;5;129;01min\u001b[39;00m \u001b[43manalyze\u001b[49m\u001b[43m(\u001b[49m\u001b[43mdoc\u001b[49m\u001b[43m)\u001b[49m:\n\u001b[32m   1264\u001b[39m         \u001b[38;5;28;01mtry\u001b[39;00m:\n\u001b[32m   1265\u001b[39m             feature_idx = vocabulary[feature]\n",
      "\u001b[36mFile \u001b[39m\u001b[32m/opt/anaconda3/envs/pln1/lib/python3.12/site-packages/sklearn/feature_extraction/text.py:104\u001b[39m, in \u001b[36m_analyze\u001b[39m\u001b[34m(doc, analyzer, tokenizer, ngrams, preprocessor, decoder, stop_words)\u001b[39m\n\u001b[32m    102\u001b[39m \u001b[38;5;28;01melse\u001b[39;00m:\n\u001b[32m    103\u001b[39m     \u001b[38;5;28;01mif\u001b[39;00m preprocessor \u001b[38;5;129;01mis\u001b[39;00m \u001b[38;5;129;01mnot\u001b[39;00m \u001b[38;5;28;01mNone\u001b[39;00m:\n\u001b[32m--> \u001b[39m\u001b[32m104\u001b[39m         doc = \u001b[43mpreprocessor\u001b[49m\u001b[43m(\u001b[49m\u001b[43mdoc\u001b[49m\u001b[43m)\u001b[49m\n\u001b[32m    105\u001b[39m     \u001b[38;5;28;01mif\u001b[39;00m tokenizer \u001b[38;5;129;01mis\u001b[39;00m \u001b[38;5;129;01mnot\u001b[39;00m \u001b[38;5;28;01mNone\u001b[39;00m:\n\u001b[32m    106\u001b[39m         doc = tokenizer(doc)\n",
      "\u001b[36mFile \u001b[39m\u001b[32m/opt/anaconda3/envs/pln1/lib/python3.12/site-packages/sklearn/feature_extraction/text.py:62\u001b[39m, in \u001b[36m_preprocess\u001b[39m\u001b[34m(doc, accent_function, lower)\u001b[39m\n\u001b[32m     43\u001b[39m \u001b[38;5;250m\u001b[39m\u001b[33;03m\"\"\"Chain together an optional series of text preprocessing steps to\u001b[39;00m\n\u001b[32m     44\u001b[39m \u001b[33;03mapply to a document.\u001b[39;00m\n\u001b[32m     45\u001b[39m \n\u001b[32m   (...)\u001b[39m\u001b[32m     59\u001b[39m \u001b[33;03m    preprocessed string\u001b[39;00m\n\u001b[32m     60\u001b[39m \u001b[33;03m\"\"\"\u001b[39;00m\n\u001b[32m     61\u001b[39m \u001b[38;5;28;01mif\u001b[39;00m lower:\n\u001b[32m---> \u001b[39m\u001b[32m62\u001b[39m     doc = \u001b[43mdoc\u001b[49m\u001b[43m.\u001b[49m\u001b[43mlower\u001b[49m()\n\u001b[32m     63\u001b[39m \u001b[38;5;28;01mif\u001b[39;00m accent_function \u001b[38;5;129;01mis\u001b[39;00m \u001b[38;5;129;01mnot\u001b[39;00m \u001b[38;5;28;01mNone\u001b[39;00m:\n\u001b[32m     64\u001b[39m     doc = accent_function(doc)\n",
      "\u001b[31mAttributeError\u001b[39m: 'numpy.ndarray' object has no attribute 'lower'"
     ]
    }
   ],
   "source": [
    "# Obtener IDF (Inverse Document Frequency) de cada vector\n",
    "vectorizer_req = TfidfVectorizer()\n",
    "vectorizer_sents = TfidfVectorizer()\n",
    "vectorizer_req.fit(\" \".join(word_tokenized_request))\n",
    "vectorizers_sents = []\n",
    "for s in word_tokenized_sents:\n",
    "    v = TfidfVectorizer()\n",
    "    v.fit(\" \".join(s))\n",
    "    vectorizer_sents.append(v.idf_)"
   ]
  },
  {
   "cell_type": "code",
   "execution_count": null,
   "metadata": {},
   "outputs": [],
   "source": []
  }
 ],
 "metadata": {
  "kernelspec": {
   "display_name": "Python [conda env:pln1]",
   "language": "python",
   "name": "conda-env-pln1-py"
  },
  "language_info": {
   "codemirror_mode": {
    "name": "ipython",
    "version": 3
   },
   "file_extension": ".py",
   "mimetype": "text/x-python",
   "name": "python",
   "nbconvert_exporter": "python",
   "pygments_lexer": "ipython3",
   "version": "3.12.9"
  }
 },
 "nbformat": 4,
 "nbformat_minor": 4
}
