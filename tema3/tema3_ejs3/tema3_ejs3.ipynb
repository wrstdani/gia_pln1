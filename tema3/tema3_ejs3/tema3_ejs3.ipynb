{
 "cells": [
  {
   "cell_type": "code",
   "execution_count": 22,
   "metadata": {},
   "outputs": [],
   "source": [
    "import nltk\n",
    "from nltk.tokenize import PunktSentenceTokenizer\n",
    "from nltk.tokenize import regexp_tokenize\n",
    "from nltk.stem import WordNetLemmatizer\n",
    "from nltk.corpus import wordnet as wn\n",
    "\n",
    "english_sw = set(nltk.corpus.stopwords.words(\"english\"))"
   ]
  },
  {
   "cell_type": "markdown",
   "metadata": {},
   "source": [
    "- **Ejercicio 1:** Se quiere crear una matriz de coocurrencias para el siguiente párrafo:  \n",
    "    “Mysterious tunnels sketched by Leonardo da Vinci in the late 1400s may have been found at the Castle. Secret tunnels at the Sforza Castle.”  \n",
    "\n",
    "    Los pasos que hay que seguir para hacer esto podrían ser los siguientes:\n",
    "    - Preprocesar el texto eliminando stopwords, convirtiendo las palabras a\n",
    "    minúsculas, tokenizando y eliminando los tokens no alfanuméricos.\n",
    "    - Generar el vocabulario (palabras únicas en el texto, sin repeticiones).\n",
    "    - Decidir el tamaño de ventana del contexto y buscar todos los pares de palabras que coocurren dentro de ese tamaño de ventana, contando las veces que coaparecen.  \n",
    "    **Para este ejercicio poner un tamaño de ventana para el contexto = 2.**\n",
    "    - Crear la matriz de coocurrencias utilizando las frecuencias calculadas antes.\n",
    "    - Visualizar la matriz utilizando DataFrame. "
   ]
  },
  {
   "cell_type": "markdown",
   "metadata": {},
   "source": [
    "**PREPROCESAMIENTO DEL TEXTO**"
   ]
  },
  {
   "cell_type": "code",
   "execution_count": 23,
   "metadata": {},
   "outputs": [],
   "source": [
    "def get_wn_tag(nltk_tag):\n",
    "    if nltk_tag.startswith(\"N\"):\n",
    "        return wn.NOUN\n",
    "    elif nltk_tag.startswith(\"V\"):\n",
    "        return wn.VERB\n",
    "    elif nltk_tag.startswith(\"J\"):\n",
    "        return wn.ADJ\n",
    "    elif nltk_tag.startswith(\"R\"):\n",
    "        return wn.ADV\n",
    "    else:\n",
    "        return None\n",
    "\n",
    "def text_preprocessing(text):\n",
    "    sent_tokenized = PunktSentenceTokenizer().tokenize(text)\n",
    "    word_tokenized = [regexp_tokenize(sent, r\"[a-zA-Z0-9]{3,}\") for sent in sent_tokenized]\n",
    "    word_tokenized = [[w.lower() for w in sent if w.lower() not in english_sw] for sent in word_tokenized]\n",
    "    tags = [nltk.pos_tag(sent) for sent in word_tokenized]\n",
    "    lemmatized = [[WordNetLemmatizer().lemmatize(word, get_wn_tag(tag)) for word, tag in sent if get_wn_tag(tag) is not None] for sent in tags]\n",
    "    return lemmatized"
   ]
  },
  {
   "cell_type": "code",
   "execution_count": 24,
   "metadata": {},
   "outputs": [
    {
     "name": "stdout",
     "output_type": "stream",
     "text": [
      "[['mysterious', 'tunnel', 'sketch', 'leonardo', 'vinci', 'late', '1400s', 'find', 'castle'], ['secret', 'tunnel', 'sforza', 'castle']]\n"
     ]
    }
   ],
   "source": [
    "text = \"Mysterious tunnels sketched by Leonardo da Vinci in the late 1400s may have been found at the Castle. Secret tunnels at the Sforza Castle.\"\n",
    "preprocessed_text = text_preprocessing(text)\n",
    "print(preprocessed_text)"
   ]
  }
 ],
 "metadata": {
  "kernelspec": {
   "display_name": "pln1",
   "language": "python",
   "name": "python3"
  },
  "language_info": {
   "codemirror_mode": {
    "name": "ipython",
    "version": 3
   },
   "file_extension": ".py",
   "mimetype": "text/x-python",
   "name": "python",
   "nbconvert_exporter": "python",
   "pygments_lexer": "ipython3",
   "version": "3.10.9"
  }
 },
 "nbformat": 4,
 "nbformat_minor": 2
}
